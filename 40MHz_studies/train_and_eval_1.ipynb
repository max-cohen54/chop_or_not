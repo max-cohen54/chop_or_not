{
 "cells": [
  {
   "cell_type": "code",
   "execution_count": 1,
   "id": "32b88cb9-4c3e-497c-be72-020a1a83cba1",
   "metadata": {},
   "outputs": [
    {
     "name": "stderr",
     "output_type": "stream",
     "text": [
      "2025-04-28 18:18:59.999552: I tensorflow/core/platform/cpu_feature_guard.cc:182] This TensorFlow binary is optimized to use available CPU instructions in performance-critical operations.\n",
      "To enable the following instructions: AVX2 FMA, in other operations, rebuild TensorFlow with the appropriate compiler flags.\n",
      "2025-04-28 18:19:01.726268: W tensorflow/compiler/tf2tensorrt/utils/py_utils.cc:38] TF-TRT Warning: Could not find TensorRT\n"
     ]
    },
    {
     "name": "stdout",
     "output_type": "stream",
     "text": [
      "XGBoost not available. Only neural network student will be used.\n"
     ]
    }
   ],
   "source": [
    "import numpy as np\n",
    "import train_and_eval_functions as taef"
   ]
  },
  {
   "cell_type": "code",
   "execution_count": 5,
   "id": "2278055a-5489-4a99-843a-ff2d061729ab",
   "metadata": {},
   "outputs": [],
   "source": [
    "BETA = 0.7\n",
    "MODEL_PATH = '/global/homes/m/mcohen54/chop_or_not_development/trained_models/trial_9'\n",
    "PLOTS_PATH = MODEL_PATH+'/plots'\n",
    "DATA_PATH = MODEL_PATH+'/data'\n",
    "H_DIM_1 = 16\n",
    "H_DIM_2 = 8\n",
    "LATENT_DIM = 3\n",
    "EPOCHS = 100\n",
    "# ANNEALING_TYPE = 'cyclical'\n",
    "# WARMUP_EPOCHS=None \n",
    "# INCREASE_EPOCHS=None\n",
    "ANNEALING_TYPE = 'standard'\n",
    "WARMUP_EPOCHS=15\n",
    "INCREASE_EPOCHS=25\n",
    "LEARNING_RATES = [0.005, 0.002, 0.001, 0.0005, 0.0001]\n",
    "STAGE_LENGTHS = [20, 20, 25, 20, 15]"
   ]
  },
  {
   "cell_type": "code",
   "execution_count": 6,
   "id": "2bd620c0-4582-4e75-ae51-9774dcb2b8bd",
   "metadata": {},
   "outputs": [
    {
     "name": "stdout",
     "output_type": "stream",
     "text": [
      "Booting up...\n",
      "Starting to load data...\n",
      "\n",
      "Loading hChToTauNu_13TeV_PU20.h5...\n",
      "Loading hToTauTau_13TeV_PU20.h5...\n",
      "Loading Ato4l_lepFilter_13TeV.h5...\n",
      "Loading background_for_training.h5...\n",
      "Loading leptoquark_LOWMASS_lepFilter_13TeV.h5...\n",
      "Beginning preprocessing...\n",
      "\n",
      "Load and preprocessing complete!\n",
      "\n"
     ]
    }
   ],
   "source": [
    "datasets = taef.load_and_preprocess(data_path='/global/homes/m/mcohen54/chop_or_not_development/data', standard_scaler=False)"
   ]
  },
  {
   "cell_type": "code",
   "execution_count": null,
   "id": "17ca4de2-b107-44c4-914a-c027caa09fed",
   "metadata": {
    "scrolled": true
   },
   "outputs": [
    {
     "name": "stdout",
     "output_type": "stream",
     "text": [
      "Initializing training procedure... booting up...\n",
      "Using standard beta annealing schedule\n",
      "Standard schedule phases:\n",
      "  - Warmup (β=0): 15 epochs\n",
      "  - Increase (β=0→0.7): 25 epochs\n",
      "  - Constant (β=0.7): 60 epochs\n",
      "\n",
      "Learning rate schedule (5 stages):\n",
      "  - Stage 1: epochs   0- 19, lr = 0.005000\n",
      "  - Stage 2: epochs  20- 39, lr = 0.002000\n",
      "  - Stage 3: epochs  40- 64, lr = 0.001000\n",
      "  - Stage 4: epochs  65- 84, lr = 0.000500\n",
      "  - Stage 5: epochs  85- 99, lr = 0.000100\n",
      "\n",
      "Initialization attempt 1/100\n"
     ]
    },
    {
     "name": "stderr",
     "output_type": "stream",
     "text": [
      "2025-04-28 18:20:13.867215: I tensorflow/core/common_runtime/gpu/gpu_device.cc:1635] Created device /job:localhost/replica:0/task:0/device:GPU:0 with 38366 MB memory:  -> device: 0, name: NVIDIA A100-SXM4-40GB, pci bus id: 0000:03:00.0, compute capability: 8.0\n",
      "2025-04-28 18:20:13.869199: I tensorflow/core/common_runtime/gpu/gpu_device.cc:1635] Created device /job:localhost/replica:0/task:0/device:GPU:1 with 38366 MB memory:  -> device: 1, name: NVIDIA A100-SXM4-40GB, pci bus id: 0000:41:00.0, compute capability: 8.0\n",
      "2025-04-28 18:20:13.871104: I tensorflow/core/common_runtime/gpu/gpu_device.cc:1635] Created device /job:localhost/replica:0/task:0/device:GPU:2 with 38366 MB memory:  -> device: 2, name: NVIDIA A100-SXM4-40GB, pci bus id: 0000:82:00.0, compute capability: 8.0\n",
      "2025-04-28 18:20:13.874353: I tensorflow/core/common_runtime/gpu/gpu_device.cc:1635] Created device /job:localhost/replica:0/task:0/device:GPU:3 with 38366 MB memory:  -> device: 3, name: NVIDIA A100-SXM4-40GB, pci bus id: 0000:c1:00.0, compute capability: 8.0\n",
      "2025-04-28 18:20:14.446988: I tensorflow/compiler/xla/stream_executor/cuda/cuda_blas.cc:637] TensorFloat-32 will be used for the matrix multiplication. This will only be logged once.\n"
     ]
    },
    {
     "name": "stdout",
     "output_type": "stream",
     "text": [
      "Successfully initialized network with valid losses!\n",
      "\n",
      "Starting training.\n"
     ]
    },
    {
     "name": "stderr",
     "output_type": "stream",
     "text": [
      "2025-04-28 18:20:15.140565: I tensorflow/core/common_runtime/executor.cc:1197] [/device:CPU:0] (DEBUG INFO) Executor start aborting (this does not indicate an error and you can ignore this message): INVALID_ARGUMENT: You must feed a value for placeholder tensor 'Placeholder/_0' with dtype float and shape [2000000,57]\n",
      "\t [[{{node Placeholder/_0}}]]\n"
     ]
    },
    {
     "name": "stdout",
     "output_type": "stream",
     "text": [
      "NaN detected in mean!\n",
      "mean stats: Tensor(\"cond/Min:0\", shape=(), dtype=float32) Tensor(\"cond/Max:0\", shape=(), dtype=float32)\n",
      "NaN detected in log_var!\n",
      "log_var stats: Tensor(\"cond_1/Min:0\", shape=(), dtype=float32) Tensor(\"cond_1/Max:0\", shape=(), dtype=float32)\n",
      "NaN detected in sampled z!\n",
      "z stats: Tensor(\"cond_2/Min:0\", shape=(), dtype=float32) Tensor(\"cond_2/Max:0\", shape=(), dtype=float32)\n",
      "NaN detected in mean!\n",
      "mean stats: Tensor(\"cond/Min:0\", shape=(), dtype=float32) Tensor(\"cond/Max:0\", shape=(), dtype=float32)\n",
      "NaN detected in log_var!\n",
      "log_var stats: Tensor(\"cond_1/Min:0\", shape=(), dtype=float32) Tensor(\"cond_1/Max:0\", shape=(), dtype=float32)\n",
      "NaN detected in sampled z!\n",
      "z stats: Tensor(\"cond_2/Min:0\", shape=(), dtype=float32) Tensor(\"cond_2/Max:0\", shape=(), dtype=float32)\n"
     ]
    },
    {
     "name": "stderr",
     "output_type": "stream",
     "text": [
      "2025-04-28 18:20:16.567055: I tensorflow/compiler/xla/service/service.cc:169] XLA service 0x7fcc646dbcd0 initialized for platform CUDA (this does not guarantee that XLA will be used). Devices:\n",
      "2025-04-28 18:20:16.567088: I tensorflow/compiler/xla/service/service.cc:177]   StreamExecutor device (0): NVIDIA A100-SXM4-40GB, Compute Capability 8.0\n",
      "2025-04-28 18:20:16.567092: I tensorflow/compiler/xla/service/service.cc:177]   StreamExecutor device (1): NVIDIA A100-SXM4-40GB, Compute Capability 8.0\n",
      "2025-04-28 18:20:16.567095: I tensorflow/compiler/xla/service/service.cc:177]   StreamExecutor device (2): NVIDIA A100-SXM4-40GB, Compute Capability 8.0\n",
      "2025-04-28 18:20:16.567098: I tensorflow/compiler/xla/service/service.cc:177]   StreamExecutor device (3): NVIDIA A100-SXM4-40GB, Compute Capability 8.0\n",
      "2025-04-28 18:20:16.571797: I tensorflow/compiler/mlir/tensorflow/utils/dump_mlir_util.cc:269] disabling MLIR crash reproducer, set env var `MLIR_CRASH_REPRODUCER_DIRECTORY` to enable.\n",
      "2025-04-28 18:20:16.600366: I tensorflow/compiler/xla/stream_executor/cuda/cuda_dnn.cc:424] Loaded cuDNN version 8901\n",
      "2025-04-28 18:20:16.714955: I ./tensorflow/compiler/jit/device_compiler.h:180] Compiled cluster using XLA!  This line is logged at most once for the lifetime of the process.\n",
      "2025-04-28 18:21:02.249680: I tensorflow/core/common_runtime/executor.cc:1197] [/device:CPU:0] (DEBUG INFO) Executor start aborting (this does not indicate an error and you can ignore this message): INVALID_ARGUMENT: You must feed a value for placeholder tensor 'Placeholder/_0' with dtype float and shape [1000000,57]\n",
      "\t [[{{node Placeholder/_0}}]]\n"
     ]
    }
   ],
   "source": [
    "taef.train_VAE(\n",
    "    datasets=datasets,\n",
    "    h_dim_1=H_DIM_1,\n",
    "    h_dim_2=H_DIM_2,\n",
    "    latent_dim=LATENT_DIM,\n",
    "    model_path=MODEL_PATH,\n",
    "    epochs=EPOCHS,\n",
    "    beta=BETA,\n",
    "    annealing_type=ANNEALING_TYPE,\n",
    "    warmup_epochs=WARMUP_EPOCHS,\n",
    "    increase_epochs=INCREASE_EPOCHS,\n",
    "    learning_rates=LEARNING_RATES,\n",
    "    stage_lengths=STAGE_LENGTHS,\n",
    "    max_reinit_attempts=100\n",
    ")"
   ]
  },
  {
   "cell_type": "code",
   "execution_count": null,
   "id": "28e43304-48f4-4653-8ead-0d179c8089d8",
   "metadata": {
    "scrolled": true
   },
   "outputs": [],
   "source": [
    "datasets = taef.evaluate_VAE_nn(\n",
    "    datasets=datasets,\n",
    "    model_path=MODEL_PATH,\n",
    "    plots_path=PLOTS_PATH,\n",
    "    h_dim_1=H_DIM_1,\n",
    "    h_dim_2=H_DIM_2,\n",
    "    latent_dim=LATENT_DIM,\n",
    "    beta=BETA,\n",
    "    train_students=True,\n",
    "    load_students=False\n",
    ")"
   ]
  },
  {
   "cell_type": "code",
   "execution_count": null,
   "id": "bfa95dd0-7316-4f20-8605-0e4fdabc4987",
   "metadata": {},
   "outputs": [],
   "source": [
    "taef.save_subdicts_to_h5(main_dict=datasets, save_dir=DATA_PATH)"
   ]
  },
  {
   "cell_type": "code",
   "execution_count": null,
   "id": "2164d92d-dab6-49dc-803b-0b55ee7aa2bf",
   "metadata": {},
   "outputs": [],
   "source": [
    "tag = 'test'\n",
    "idx=0\n",
    "print(datasets[tag]['data'][idx])\n",
    "print(datasets[tag]['y_pred'][idx])\n",
    "print(datasets[tag]['z_mean'][idx])\n",
    "print(datasets[tag]['z_log_var'][idx])"
   ]
  },
  {
   "cell_type": "code",
   "execution_count": null,
   "id": "6c6573b0-921b-487a-b0ca-324868264ca9",
   "metadata": {},
   "outputs": [],
   "source": []
  }
 ],
 "metadata": {
  "kernelspec": {
   "display_name": "tensorflow-2.12.0",
   "language": "python",
   "name": "tensorflow-2.12.0"
  },
  "language_info": {
   "codemirror_mode": {
    "name": "ipython",
    "version": 3
   },
   "file_extension": ".py",
   "mimetype": "text/x-python",
   "name": "python",
   "nbconvert_exporter": "python",
   "pygments_lexer": "ipython3",
   "version": "3.9.19"
  }
 },
 "nbformat": 4,
 "nbformat_minor": 5
}
