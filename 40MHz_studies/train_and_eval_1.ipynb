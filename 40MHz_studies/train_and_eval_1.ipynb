{
 "cells": [
  {
   "cell_type": "code",
   "execution_count": null,
   "id": "32b88cb9-4c3e-497c-be72-020a1a83cba1",
   "metadata": {},
   "outputs": [
    {
     "name": "stderr",
     "output_type": "stream",
     "text": [
      "2025-04-28 19:29:31.372274: I tensorflow/core/platform/cpu_feature_guard.cc:182] This TensorFlow binary is optimized to use available CPU instructions in performance-critical operations.\n",
      "To enable the following instructions: AVX2 FMA, in other operations, rebuild TensorFlow with the appropriate compiler flags.\n",
      "2025-04-28 19:29:32.856078: W tensorflow/compiler/tf2tensorrt/utils/py_utils.cc:38] TF-TRT Warning: Could not find TensorRT\n"
     ]
    }
   ],
   "source": [
    "import numpy as np\n",
    "import train_and_eval_functions as taef"
   ]
  },
  {
   "cell_type": "code",
   "execution_count": null,
   "id": "2278055a-5489-4a99-843a-ff2d061729ab",
   "metadata": {},
   "outputs": [],
   "source": [
    "BETA = 0.7\n",
    "MODEL_PATH = '/global/homes/m/mcohen54/chop_or_not_development/trained_models/trial_9'\n",
    "PLOTS_PATH = MODEL_PATH+'/plots'\n",
    "DATA_PATH = MODEL_PATH+'/data'\n",
    "H_DIM_1 = 16\n",
    "H_DIM_2 = 8\n",
    "LATENT_DIM = 3\n",
    "EPOCHS = 100\n",
    "# ANNEALING_TYPE = 'cyclical'\n",
    "# WARMUP_EPOCHS=None \n",
    "# INCREASE_EPOCHS=None\n",
    "ANNEALING_TYPE = 'standard'\n",
    "WARMUP_EPOCHS=15\n",
    "INCREASE_EPOCHS=25\n",
    "LEARNING_RATES = [0.005, 0.002, 0.001, 0.0005, 0.0001]\n",
    "STAGE_LENGTHS = [20, 20, 25, 20, 15]"
   ]
  },
  {
   "cell_type": "code",
   "execution_count": null,
   "id": "2bd620c0-4582-4e75-ae51-9774dcb2b8bd",
   "metadata": {},
   "outputs": [],
   "source": [
    "datasets = taef.load_and_preprocess(data_path='/global/homes/m/mcohen54/chop_or_not_development/data', standard_scaler=False)"
   ]
  },
  {
   "cell_type": "code",
   "execution_count": null,
   "id": "17ca4de2-b107-44c4-914a-c027caa09fed",
   "metadata": {
    "scrolled": true
   },
   "outputs": [],
   "source": [
    "taef.train_VAE(\n",
    "    datasets=datasets,\n",
    "    h_dim_1=H_DIM_1,\n",
    "    h_dim_2=H_DIM_2,\n",
    "    latent_dim=LATENT_DIM,\n",
    "    model_path=MODEL_PATH,\n",
    "    epochs=EPOCHS,\n",
    "    beta=BETA,\n",
    "    annealing_type=ANNEALING_TYPE,\n",
    "    warmup_epochs=WARMUP_EPOCHS,\n",
    "    increase_epochs=INCREASE_EPOCHS,\n",
    "    learning_rates=LEARNING_RATES,\n",
    "    stage_lengths=STAGE_LENGTHS,\n",
    "    max_reinit_attempts=100\n",
    ")"
   ]
  },
  {
   "cell_type": "code",
   "execution_count": null,
   "id": "28e43304-48f4-4653-8ead-0d179c8089d8",
   "metadata": {
    "scrolled": true
   },
   "outputs": [],
   "source": [
    "datasets = taef.evaluate_VAE_nn(\n",
    "    datasets=datasets,\n",
    "    model_path=MODEL_PATH,\n",
    "    plots_path=PLOTS_PATH,\n",
    "    h_dim_1=H_DIM_1,\n",
    "    h_dim_2=H_DIM_2,\n",
    "    latent_dim=LATENT_DIM,\n",
    "    beta=BETA,\n",
    "    train_students=True,\n",
    "    load_students=False\n",
    ")"
   ]
  },
  {
   "cell_type": "code",
   "execution_count": null,
   "id": "bfa95dd0-7316-4f20-8605-0e4fdabc4987",
   "metadata": {},
   "outputs": [],
   "source": [
    "taef.save_subdicts_to_h5(main_dict=datasets, save_dir=DATA_PATH)"
   ]
  },
  {
   "cell_type": "code",
   "execution_count": null,
   "id": "2164d92d-dab6-49dc-803b-0b55ee7aa2bf",
   "metadata": {},
   "outputs": [],
   "source": [
    "tag = 'test'\n",
    "idx=0\n",
    "print(datasets[tag]['data'][idx])\n",
    "print(datasets[tag]['y_pred'][idx])\n",
    "print(datasets[tag]['z_mean'][idx])\n",
    "print(datasets[tag]['z_log_var'][idx])"
   ]
  },
  {
   "cell_type": "code",
   "execution_count": null,
   "id": "6c6573b0-921b-487a-b0ca-324868264ca9",
   "metadata": {},
   "outputs": [],
   "source": []
  }
 ],
 "metadata": {
  "kernelspec": {
   "display_name": "tensorflow-2.12.0",
   "language": "python",
   "name": "tensorflow-2.12.0"
  },
  "language_info": {
   "codemirror_mode": {
    "name": "ipython",
    "version": 3
   },
   "file_extension": ".py",
   "mimetype": "text/x-python",
   "name": "python",
   "nbconvert_exporter": "python",
   "pygments_lexer": "ipython3",
   "version": "3.9.19"
  }
 },
 "nbformat": 4,
 "nbformat_minor": 5
}
