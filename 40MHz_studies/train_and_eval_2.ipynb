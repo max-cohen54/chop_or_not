{
 "cells": [
  {
   "cell_type": "code",
   "execution_count": 1,
   "id": "95e257bb-f371-47c9-ac08-7df43f3cf0a8",
   "metadata": {},
   "outputs": [
    {
     "name": "stderr",
     "output_type": "stream",
     "text": [
      "2025-04-30 01:30:22.604347: E external/local_xla/xla/stream_executor/cuda/cuda_fft.cc:477] Unable to register cuFFT factory: Attempting to register factory for plugin cuFFT when one has already been registered\n",
      "WARNING: All log messages before absl::InitializeLog() is called are written to STDERR\n",
      "E0000 00:00:1746001822.630435 1697348 cuda_dnn.cc:8310] Unable to register cuDNN factory: Attempting to register factory for plugin cuDNN when one has already been registered\n",
      "E0000 00:00:1746001822.647026 1697348 cuda_blas.cc:1418] Unable to register cuBLAS factory: Attempting to register factory for plugin cuBLAS when one has already been registered\n",
      "2025-04-30 01:30:23.036377: I tensorflow/core/platform/cpu_feature_guard.cc:210] This TensorFlow binary is optimized to use available CPU instructions in performance-critical operations.\n",
      "To enable the following instructions: SSE4.1 SSE4.2 AVX AVX2 FMA, in other operations, rebuild TensorFlow with the appropriate compiler flags.\n"
     ]
    }
   ],
   "source": [
    "import numpy as np\n",
    "import train_and_eval_functions as taef"
   ]
  },
  {
   "cell_type": "code",
   "execution_count": 2,
   "id": "6f1fbfc4-8ae1-41ff-b3db-1d9b246ded39",
   "metadata": {},
   "outputs": [],
   "source": [
    "MODEL_PATH = '/global/homes/m/mcohen54/chop_or_not_development/trained_models/trial_10'\n",
    "PLOTS_PATH = MODEL_PATH+'/plots'\n",
    "DATA_PATH = MODEL_PATH+'/data'"
   ]
  },
  {
   "cell_type": "code",
   "execution_count": 3,
   "id": "5639def9-9e3c-4e42-8238-69ac1629c039",
   "metadata": {},
   "outputs": [
    {
     "name": "stdout",
     "output_type": "stream",
     "text": [
      "Loaded leptoquark from /global/homes/m/mcohen54/chop_or_not_development/trained_models/trial_10/data/leptoquark.h5\n",
      "Loaded hToTauTau from /global/homes/m/mcohen54/chop_or_not_development/trained_models/trial_10/data/hToTauTau.h5\n",
      "Loaded test from /global/homes/m/mcohen54/chop_or_not_development/trained_models/trial_10/data/test.h5\n",
      "Loaded hChToTauNu from /global/homes/m/mcohen54/chop_or_not_development/trained_models/trial_10/data/hChToTauNu.h5\n",
      "Loaded val from /global/homes/m/mcohen54/chop_or_not_development/trained_models/trial_10/data/val.h5\n",
      "Loaded Ato4l from /global/homes/m/mcohen54/chop_or_not_development/trained_models/trial_10/data/Ato4l.h5\n",
      "Loaded train from /global/homes/m/mcohen54/chop_or_not_development/trained_models/trial_10/data/train.h5\n"
     ]
    }
   ],
   "source": [
    "datasets = taef.load_subdicts_from_h5(DATA_PATH)"
   ]
  },
  {
   "cell_type": "code",
   "execution_count": 4,
   "id": "149bf713-8f20-405b-8b1a-11f6804612c7",
   "metadata": {
    "scrolled": true
   },
   "outputs": [
    {
     "name": "stdout",
     "output_type": "stream",
     "text": [
      "Beginning XGBoost evaluation procedure... booting up...\n",
      "Training XGBoost student...\n",
      "Initializing XGBoost knowledge distillation procedure...\n",
      "Creating XGBoost student...\n",
      "Starting training of the XGBoost student.\n",
      "[0]\tvalidation_0-rmse:29.55073\n",
      "[1]\tvalidation_0-rmse:28.50897\n",
      "[2]\tvalidation_0-rmse:28.12182\n",
      "[3]\tvalidation_0-rmse:28.36788\n",
      "[4]\tvalidation_0-rmse:29.11706\n",
      "[5]\tvalidation_0-rmse:30.24137\n",
      "[6]\tvalidation_0-rmse:30.72153\n",
      "[7]\tvalidation_0-rmse:32.17613\n",
      "[8]\tvalidation_0-rmse:33.75866\n",
      "[9]\tvalidation_0-rmse:35.40448\n",
      "[10]\tvalidation_0-rmse:37.10534\n",
      "[11]\tvalidation_0-rmse:37.91515\n",
      "[12]\tvalidation_0-rmse:39.57819\n",
      "[13]\tvalidation_0-rmse:41.22246\n",
      "[14]\tvalidation_0-rmse:42.82659\n",
      "[15]\tvalidation_0-rmse:44.39296\n",
      "[16]\tvalidation_0-rmse:45.88574\n",
      "[17]\tvalidation_0-rmse:47.36669\n",
      "[18]\tvalidation_0-rmse:48.72839\n",
      "[19]\tvalidation_0-rmse:50.07166\n",
      "[20]\tvalidation_0-rmse:51.34168\n",
      "[21]\tvalidation_0-rmse:52.38343\n",
      "[22]\tvalidation_0-rmse:52.95025\n",
      "[23]\tvalidation_0-rmse:53.89074\n",
      "[24]\tvalidation_0-rmse:54.96651\n",
      "[25]\tvalidation_0-rmse:54.95481\n",
      "[26]\tvalidation_0-rmse:55.97620\n",
      "[27]\tvalidation_0-rmse:55.97763\n",
      "[28]\tvalidation_0-rmse:55.97733\n",
      "[29]\tvalidation_0-rmse:55.99180\n",
      "[30]\tvalidation_0-rmse:56.55295\n",
      "[31]\tvalidation_0-rmse:56.70001\n",
      "[32]\tvalidation_0-rmse:56.73099\n",
      "[33]\tvalidation_0-rmse:56.73000\n",
      "[34]\tvalidation_0-rmse:56.93021\n",
      "[35]\tvalidation_0-rmse:57.12020\n",
      "[36]\tvalidation_0-rmse:57.15166\n",
      "[37]\tvalidation_0-rmse:57.13934\n",
      "[38]\tvalidation_0-rmse:57.15090\n",
      "[39]\tvalidation_0-rmse:57.28358\n",
      "[40]\tvalidation_0-rmse:57.33718\n",
      "[41]\tvalidation_0-rmse:57.61197\n",
      "[42]\tvalidation_0-rmse:57.61141\n",
      "[43]\tvalidation_0-rmse:57.63519\n",
      "[44]\tvalidation_0-rmse:57.74923\n",
      "[45]\tvalidation_0-rmse:57.79479\n",
      "[46]\tvalidation_0-rmse:57.82231\n",
      "[47]\tvalidation_0-rmse:57.83022\n",
      "[48]\tvalidation_0-rmse:57.86713\n",
      "[49]\tvalidation_0-rmse:57.87004\n",
      "[50]\tvalidation_0-rmse:57.99511\n",
      "[51]\tvalidation_0-rmse:58.02673\n",
      "[52]\tvalidation_0-rmse:58.06281\n",
      "[53]\tvalidation_0-rmse:58.19919\n",
      "[54]\tvalidation_0-rmse:58.21606\n",
      "[55]\tvalidation_0-rmse:58.22264\n",
      "[56]\tvalidation_0-rmse:58.22994\n",
      "[57]\tvalidation_0-rmse:58.21690\n",
      "[58]\tvalidation_0-rmse:58.22786\n",
      "[59]\tvalidation_0-rmse:58.22197\n",
      "[60]\tvalidation_0-rmse:58.22154\n",
      "[61]\tvalidation_0-rmse:58.21765\n",
      "[62]\tvalidation_0-rmse:58.26026\n",
      "[63]\tvalidation_0-rmse:58.24714\n",
      "[64]\tvalidation_0-rmse:58.23908\n",
      "[65]\tvalidation_0-rmse:58.23634\n",
      "[66]\tvalidation_0-rmse:58.23631\n",
      "[67]\tvalidation_0-rmse:58.23979\n",
      "[68]\tvalidation_0-rmse:58.24153\n",
      "[69]\tvalidation_0-rmse:58.24822\n",
      "[70]\tvalidation_0-rmse:58.25015\n",
      "[71]\tvalidation_0-rmse:58.24844\n",
      "[72]\tvalidation_0-rmse:58.25399\n",
      "[73]\tvalidation_0-rmse:58.25219\n",
      "[74]\tvalidation_0-rmse:58.25378\n",
      "[75]\tvalidation_0-rmse:58.25935\n",
      "[76]\tvalidation_0-rmse:58.25566\n",
      "[77]\tvalidation_0-rmse:58.25710\n",
      "[78]\tvalidation_0-rmse:58.25714\n",
      "[79]\tvalidation_0-rmse:58.25935\n",
      "[80]\tvalidation_0-rmse:58.26933\n",
      "[81]\tvalidation_0-rmse:58.28163\n",
      "[82]\tvalidation_0-rmse:58.27504\n",
      "[83]\tvalidation_0-rmse:58.27031\n",
      "[84]\tvalidation_0-rmse:58.26754\n",
      "[85]\tvalidation_0-rmse:58.27365\n",
      "[86]\tvalidation_0-rmse:58.27334\n",
      "[87]\tvalidation_0-rmse:58.27990\n",
      "[88]\tvalidation_0-rmse:58.28120\n",
      "[89]\tvalidation_0-rmse:58.27583\n",
      "[90]\tvalidation_0-rmse:58.41696\n",
      "[91]\tvalidation_0-rmse:58.42012\n",
      "[92]\tvalidation_0-rmse:58.42215\n",
      "[93]\tvalidation_0-rmse:58.42323\n",
      "[94]\tvalidation_0-rmse:58.42474\n",
      "[95]\tvalidation_0-rmse:58.43006\n",
      "[96]\tvalidation_0-rmse:58.43409\n",
      "[97]\tvalidation_0-rmse:58.44146\n",
      "[98]\tvalidation_0-rmse:58.47810\n",
      "[99]\tvalidation_0-rmse:58.48778\n",
      "Saving XGBoost student...\n",
      "XGBoost student saved! Knowledge distillation complete.\n",
      "Running inference on the XGBoost student...\n",
      "Inference complete! Plotting student performance...\n",
      "Plotting ROC curves...\n",
      "ROC curves plotted! Evaluation complete.\n"
     ]
    }
   ],
   "source": [
    "datasets = taef.evaluate_VAE_xgb(\n",
    "    datasets=datasets,\n",
    "    model_path=MODEL_PATH,\n",
    "    plots_path=PLOTS_PATH,\n",
    "    train_students=True,\n",
    "    load_students=False\n",
    ")"
   ]
  },
  {
   "cell_type": "code",
   "execution_count": null,
   "id": "3a159c46-f0c5-4441-9c5a-0ea4919f2a5d",
   "metadata": {},
   "outputs": [],
   "source": []
  }
 ],
 "metadata": {
  "kernelspec": {
   "display_name": "Python (ML Environment)",
   "language": "python",
   "name": "ml_env"
  },
  "language_info": {
   "codemirror_mode": {
    "name": "ipython",
    "version": 3
   },
   "file_extension": ".py",
   "mimetype": "text/x-python",
   "name": "python",
   "nbconvert_exporter": "python",
   "pygments_lexer": "ipython3",
   "version": "3.9.22"
  }
 },
 "nbformat": 4,
 "nbformat_minor": 5
}
