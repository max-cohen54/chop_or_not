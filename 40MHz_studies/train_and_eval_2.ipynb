{
 "cells": [
  {
   "cell_type": "code",
   "execution_count": 1,
   "id": "95e257bb-f371-47c9-ac08-7df43f3cf0a8",
   "metadata": {},
   "outputs": [
    {
     "name": "stderr",
     "output_type": "stream",
     "text": [
      "2025-04-28 18:15:29.649643: E external/local_xla/xla/stream_executor/cuda/cuda_fft.cc:477] Unable to register cuFFT factory: Attempting to register factory for plugin cuFFT when one has already been registered\n",
      "WARNING: All log messages before absl::InitializeLog() is called are written to STDERR\n",
      "E0000 00:00:1745889329.662241  524843 cuda_dnn.cc:8310] Unable to register cuDNN factory: Attempting to register factory for plugin cuDNN when one has already been registered\n",
      "E0000 00:00:1745889329.666457  524843 cuda_blas.cc:1418] Unable to register cuBLAS factory: Attempting to register factory for plugin cuBLAS when one has already been registered\n",
      "2025-04-28 18:15:29.680520: I tensorflow/core/platform/cpu_feature_guard.cc:210] This TensorFlow binary is optimized to use available CPU instructions in performance-critical operations.\n",
      "To enable the following instructions: SSE4.1 SSE4.2 AVX AVX2 FMA, in other operations, rebuild TensorFlow with the appropriate compiler flags.\n"
     ]
    }
   ],
   "source": [
    "import numpy as np\n",
    "import train_and_eval_functions as taef"
   ]
  },
  {
   "cell_type": "code",
   "execution_count": 2,
   "id": "6f1fbfc4-8ae1-41ff-b3db-1d9b246ded39",
   "metadata": {},
   "outputs": [],
   "source": [
    "MODEL_PATH = '/global/homes/m/mcohen54/chop_or_not_development/trained_models/trial_9'\n",
    "PLOTS_PATH = MODEL_PATH+'/plots'\n",
    "DATA_PATH = MODEL_PATH+'/data'"
   ]
  },
  {
   "cell_type": "code",
   "execution_count": 3,
   "id": "5639def9-9e3c-4e42-8238-69ac1629c039",
   "metadata": {},
   "outputs": [
    {
     "name": "stdout",
     "output_type": "stream",
     "text": [
      "Loaded leptoquark from /global/homes/m/mcohen54/chop_or_not_development/trained_models/trial_8/data/leptoquark.h5\n",
      "Loaded hToTauTau from /global/homes/m/mcohen54/chop_or_not_development/trained_models/trial_8/data/hToTauTau.h5\n",
      "Loaded test from /global/homes/m/mcohen54/chop_or_not_development/trained_models/trial_8/data/test.h5\n",
      "Loaded hChToTauNu from /global/homes/m/mcohen54/chop_or_not_development/trained_models/trial_8/data/hChToTauNu.h5\n",
      "Loaded val from /global/homes/m/mcohen54/chop_or_not_development/trained_models/trial_8/data/val.h5\n",
      "Loaded Ato4l from /global/homes/m/mcohen54/chop_or_not_development/trained_models/trial_8/data/Ato4l.h5\n",
      "Loaded train from /global/homes/m/mcohen54/chop_or_not_development/trained_models/trial_8/data/train.h5\n"
     ]
    }
   ],
   "source": [
    "datasets = taef.load_subdicts_from_h5(DATA_PATH)"
   ]
  },
  {
   "cell_type": "code",
   "execution_count": 4,
   "id": "149bf713-8f20-405b-8b1a-11f6804612c7",
   "metadata": {
    "scrolled": true
   },
   "outputs": [
    {
     "name": "stdout",
     "output_type": "stream",
     "text": [
      "Beginning XGBoost evaluation procedure... booting up...\n",
      "Training XGBoost student...\n",
      "Initializing XGBoost knowledge distillation procedure...\n",
      "Creating XGBoost student...\n",
      "Starting training of the XGBoost student.\n",
      "[0]\tvalidation_0-rmse:42.27073\n",
      "[1]\tvalidation_0-rmse:40.88578\n",
      "[2]\tvalidation_0-rmse:39.91158\n",
      "[3]\tvalidation_0-rmse:39.13819\n",
      "[4]\tvalidation_0-rmse:38.77183\n",
      "[5]\tvalidation_0-rmse:38.66311\n",
      "[6]\tvalidation_0-rmse:38.56228\n",
      "[7]\tvalidation_0-rmse:38.93448\n",
      "[8]\tvalidation_0-rmse:39.38464\n",
      "[9]\tvalidation_0-rmse:39.93945\n",
      "[10]\tvalidation_0-rmse:39.83627\n",
      "[11]\tvalidation_0-rmse:40.46081\n",
      "[12]\tvalidation_0-rmse:40.92911\n",
      "[13]\tvalidation_0-rmse:40.93324\n",
      "[14]\tvalidation_0-rmse:41.43655\n",
      "[15]\tvalidation_0-rmse:41.76002\n",
      "[16]\tvalidation_0-rmse:41.71375\n",
      "[17]\tvalidation_0-rmse:42.31456\n",
      "[18]\tvalidation_0-rmse:42.30563\n",
      "[19]\tvalidation_0-rmse:42.67169\n",
      "[20]\tvalidation_0-rmse:42.64277\n",
      "[21]\tvalidation_0-rmse:42.53061\n",
      "[22]\tvalidation_0-rmse:42.58483\n",
      "[23]\tvalidation_0-rmse:42.58694\n",
      "[24]\tvalidation_0-rmse:42.67688\n",
      "[25]\tvalidation_0-rmse:42.69968\n",
      "[26]\tvalidation_0-rmse:42.68629\n",
      "[27]\tvalidation_0-rmse:42.58386\n",
      "[28]\tvalidation_0-rmse:42.60037\n",
      "[29]\tvalidation_0-rmse:42.58438\n",
      "[30]\tvalidation_0-rmse:42.59791\n",
      "[31]\tvalidation_0-rmse:42.62820\n",
      "[32]\tvalidation_0-rmse:42.58983\n",
      "[33]\tvalidation_0-rmse:42.60430\n",
      "[34]\tvalidation_0-rmse:42.65029\n",
      "[35]\tvalidation_0-rmse:42.66052\n",
      "[36]\tvalidation_0-rmse:42.72059\n",
      "[37]\tvalidation_0-rmse:42.75098\n",
      "[38]\tvalidation_0-rmse:42.79682\n",
      "[39]\tvalidation_0-rmse:42.78639\n",
      "[40]\tvalidation_0-rmse:42.78279\n",
      "[41]\tvalidation_0-rmse:42.83878\n",
      "[42]\tvalidation_0-rmse:42.86590\n",
      "[43]\tvalidation_0-rmse:42.88363\n",
      "[44]\tvalidation_0-rmse:42.88367\n",
      "[45]\tvalidation_0-rmse:42.87426\n",
      "[46]\tvalidation_0-rmse:42.87419\n",
      "[47]\tvalidation_0-rmse:42.88246\n",
      "[48]\tvalidation_0-rmse:42.87578\n",
      "[49]\tvalidation_0-rmse:42.87828\n",
      "[50]\tvalidation_0-rmse:42.80600\n",
      "[51]\tvalidation_0-rmse:42.87885\n",
      "[52]\tvalidation_0-rmse:42.86497\n",
      "[53]\tvalidation_0-rmse:43.03053\n",
      "[54]\tvalidation_0-rmse:43.20287\n",
      "[55]\tvalidation_0-rmse:43.20494\n",
      "[56]\tvalidation_0-rmse:43.19862\n",
      "[57]\tvalidation_0-rmse:43.20056\n",
      "[58]\tvalidation_0-rmse:43.20176\n",
      "[59]\tvalidation_0-rmse:43.20529\n",
      "[60]\tvalidation_0-rmse:43.18945\n",
      "[61]\tvalidation_0-rmse:43.17669\n",
      "[62]\tvalidation_0-rmse:43.17911\n",
      "[63]\tvalidation_0-rmse:43.17358\n",
      "[64]\tvalidation_0-rmse:43.20541\n",
      "[65]\tvalidation_0-rmse:43.20686\n",
      "[66]\tvalidation_0-rmse:43.20125\n",
      "[67]\tvalidation_0-rmse:43.20354\n",
      "[68]\tvalidation_0-rmse:43.19390\n",
      "[69]\tvalidation_0-rmse:43.17179\n",
      "[70]\tvalidation_0-rmse:43.16561\n",
      "[71]\tvalidation_0-rmse:43.15781\n",
      "[72]\tvalidation_0-rmse:43.15574\n",
      "[73]\tvalidation_0-rmse:43.15741\n",
      "[74]\tvalidation_0-rmse:43.16033\n",
      "[75]\tvalidation_0-rmse:43.13794\n",
      "[76]\tvalidation_0-rmse:43.12844\n",
      "[77]\tvalidation_0-rmse:43.12995\n",
      "[78]\tvalidation_0-rmse:43.16182\n",
      "[79]\tvalidation_0-rmse:43.13333\n",
      "[80]\tvalidation_0-rmse:43.13401\n",
      "[81]\tvalidation_0-rmse:43.12793\n",
      "[82]\tvalidation_0-rmse:43.14831\n",
      "[83]\tvalidation_0-rmse:43.15228\n",
      "[84]\tvalidation_0-rmse:43.14903\n",
      "[85]\tvalidation_0-rmse:43.14827\n",
      "[86]\tvalidation_0-rmse:43.14344\n",
      "[87]\tvalidation_0-rmse:43.16553\n",
      "[88]\tvalidation_0-rmse:43.13494\n",
      "[89]\tvalidation_0-rmse:43.13885\n",
      "[90]\tvalidation_0-rmse:43.14029\n",
      "[91]\tvalidation_0-rmse:43.12315\n",
      "[92]\tvalidation_0-rmse:43.15133\n",
      "[93]\tvalidation_0-rmse:43.15657\n",
      "[94]\tvalidation_0-rmse:43.20049\n",
      "[95]\tvalidation_0-rmse:43.20163\n",
      "[96]\tvalidation_0-rmse:43.20532\n",
      "[97]\tvalidation_0-rmse:43.24974\n",
      "[98]\tvalidation_0-rmse:43.24665\n",
      "[99]\tvalidation_0-rmse:43.23528\n",
      "Saving XGBoost student...\n",
      "XGBoost student saved! Knowledge distillation complete.\n",
      "Running inference on the XGBoost student...\n",
      "Inference complete! Plotting student performance...\n",
      "Plotting ROC curves...\n",
      "ROC curves plotted! Evaluation complete.\n"
     ]
    }
   ],
   "source": [
    "datasets = taef.evaluate_VAE_xgb(\n",
    "    datasets=datasets,\n",
    "    model_path=MODEL_PATH,\n",
    "    plots_path=PLOTS_PATH,\n",
    "    train_students=True,\n",
    "    load_students=False\n",
    ")"
   ]
  },
  {
   "cell_type": "code",
   "execution_count": null,
   "id": "3a159c46-f0c5-4441-9c5a-0ea4919f2a5d",
   "metadata": {},
   "outputs": [],
   "source": []
  }
 ],
 "metadata": {
  "kernelspec": {
   "display_name": "Python (ML Environment)",
   "language": "python",
   "name": "ml_env"
  },
  "language_info": {
   "codemirror_mode": {
    "name": "ipython",
    "version": 3
   },
   "file_extension": ".py",
   "mimetype": "text/x-python",
   "name": "python",
   "nbconvert_exporter": "python",
   "pygments_lexer": "ipython3",
   "version": "3.9.22"
  }
 },
 "nbformat": 4,
 "nbformat_minor": 5
}
