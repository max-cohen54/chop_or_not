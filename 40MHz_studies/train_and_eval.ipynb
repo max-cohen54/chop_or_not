{
 "cells": [
  {
   "cell_type": "code",
   "execution_count": 1,
   "id": "fe4d0ab8-d460-45f4-888d-a974b2dd180b",
   "metadata": {},
   "outputs": [
    {
     "name": "stderr",
     "output_type": "stream",
     "text": [
      "2025-04-23 23:26:49.342992: I tensorflow/core/util/port.cc:113] oneDNN custom operations are on. You may see slightly different numerical results due to floating-point round-off errors from different computation orders. To turn them off, set the environment variable `TF_ENABLE_ONEDNN_OPTS=0`.\n",
      "2025-04-23 23:26:49.430818: I tensorflow/core/platform/cpu_feature_guard.cc:210] This TensorFlow binary is optimized to use available CPU instructions in performance-critical operations.\n",
      "To enable the following instructions: AVX2 AVX512F AVX512_VNNI FMA, in other operations, rebuild TensorFlow with the appropriate compiler flags.\n",
      "2025-04-23 23:26:52.714870: W tensorflow/compiler/tf2tensorrt/utils/py_utils.cc:38] TF-TRT Warning: Could not find TensorRT\n"
     ]
    }
   ],
   "source": [
    "import numpy as np\n",
    "import train_and_eval_functions as taef"
   ]
  },
  {
   "cell_type": "code",
   "execution_count": 2,
   "id": "bfc1ed27-201d-455a-98d4-8dbdef2c6b7d",
   "metadata": {},
   "outputs": [],
   "source": [
    "BETA = 0.5\n",
    "MODEL_PATH = '/eos/home-m/mmcohen/chop_or_not_development/trained_models/trial_3'\n",
    "PLOTS_PATH = MODEL_PATH+'/plots'"
   ]
  },
  {
   "cell_type": "code",
   "execution_count": 3,
   "id": "4ba78a74-9889-420c-83da-7561a5031e47",
   "metadata": {},
   "outputs": [
    {
     "name": "stdout",
     "output_type": "stream",
     "text": [
      "Booting up...\n",
      "Starting to load data...\n",
      "\n",
      "Loading Ato4l_lepFilter_13TeV.h5...\n",
      "Loading background_for_training.h5...\n",
      "Loading hChToTauNu_13TeV_PU20.h5...\n",
      "Loading hToTauTau_13TeV_PU20.h5...\n",
      "Loading leptoquark_LOWMASS_lepFilter_13TeV.h5...\n",
      "Beginning preprocessing...\n",
      "\n",
      "Load and preprocessing complete!\n",
      "\n"
     ]
    }
   ],
   "source": [
    "datasets = taef.load_and_preprocess(standard_scaler=False)"
   ]
  },
  {
   "cell_type": "code",
   "execution_count": 4,
   "id": "b97dedcd-4af5-4c38-a63e-f071239b0f6f",
   "metadata": {
    "scrolled": true
   },
   "outputs": [
    {
     "name": "stderr",
     "output_type": "stream",
     "text": [
      "2025-04-23 23:27:10.221458: I external/local_xla/xla/stream_executor/cuda/cuda_executor.cc:998] successful NUMA node read from SysFS had negative value (-1), but there must be at least one NUMA node, so returning NUMA node zero. See more at https://github.com/torvalds/linux/blob/v6.0/Documentation/ABI/testing/sysfs-bus-pci#L344-L355\n",
      "2025-04-23 23:27:10.307807: I external/local_xla/xla/stream_executor/cuda/cuda_executor.cc:998] successful NUMA node read from SysFS had negative value (-1), but there must be at least one NUMA node, so returning NUMA node zero. See more at https://github.com/torvalds/linux/blob/v6.0/Documentation/ABI/testing/sysfs-bus-pci#L344-L355\n",
      "2025-04-23 23:27:10.308186: I external/local_xla/xla/stream_executor/cuda/cuda_executor.cc:998] successful NUMA node read from SysFS had negative value (-1), but there must be at least one NUMA node, so returning NUMA node zero. See more at https://github.com/torvalds/linux/blob/v6.0/Documentation/ABI/testing/sysfs-bus-pci#L344-L355\n",
      "2025-04-23 23:27:10.312341: I external/local_xla/xla/stream_executor/cuda/cuda_executor.cc:998] successful NUMA node read from SysFS had negative value (-1), but there must be at least one NUMA node, so returning NUMA node zero. See more at https://github.com/torvalds/linux/blob/v6.0/Documentation/ABI/testing/sysfs-bus-pci#L344-L355\n",
      "2025-04-23 23:27:10.312609: I external/local_xla/xla/stream_executor/cuda/cuda_executor.cc:998] successful NUMA node read from SysFS had negative value (-1), but there must be at least one NUMA node, so returning NUMA node zero. See more at https://github.com/torvalds/linux/blob/v6.0/Documentation/ABI/testing/sysfs-bus-pci#L344-L355\n",
      "2025-04-23 23:27:10.312830: I external/local_xla/xla/stream_executor/cuda/cuda_executor.cc:998] successful NUMA node read from SysFS had negative value (-1), but there must be at least one NUMA node, so returning NUMA node zero. See more at https://github.com/torvalds/linux/blob/v6.0/Documentation/ABI/testing/sysfs-bus-pci#L344-L355\n",
      "2025-04-23 23:27:10.401649: I external/local_xla/xla/stream_executor/cuda/cuda_executor.cc:998] successful NUMA node read from SysFS had negative value (-1), but there must be at least one NUMA node, so returning NUMA node zero. See more at https://github.com/torvalds/linux/blob/v6.0/Documentation/ABI/testing/sysfs-bus-pci#L344-L355\n",
      "2025-04-23 23:27:10.402017: I external/local_xla/xla/stream_executor/cuda/cuda_executor.cc:998] successful NUMA node read from SysFS had negative value (-1), but there must be at least one NUMA node, so returning NUMA node zero. See more at https://github.com/torvalds/linux/blob/v6.0/Documentation/ABI/testing/sysfs-bus-pci#L344-L355\n",
      "2025-04-23 23:27:10.402233: I external/local_xla/xla/stream_executor/cuda/cuda_executor.cc:998] successful NUMA node read from SysFS had negative value (-1), but there must be at least one NUMA node, so returning NUMA node zero. See more at https://github.com/torvalds/linux/blob/v6.0/Documentation/ABI/testing/sysfs-bus-pci#L344-L355\n",
      "2025-04-23 23:27:10.402392: I tensorflow/core/common_runtime/gpu/gpu_device.cc:1928] Created device /job:localhost/replica:0/task:0/device:GPU:0 with 13942 MB memory:  -> device: 0, name: Tesla T4, pci bus id: 0000:00:07.0, compute capability: 7.5\n"
     ]
    },
    {
     "name": "stdout",
     "output_type": "stream",
     "text": [
      "Epoch 1/100\n"
     ]
    },
    {
     "name": "stderr",
     "output_type": "stream",
     "text": [
      "WARNING: All log messages before absl::InitializeLog() is called are written to STDERR\n",
      "I0000 00:00:1745443639.726829    9401 service.cc:145] XLA service 0x7f39b4016b10 initialized for platform CUDA (this does not guarantee that XLA will be used). Devices:\n",
      "I0000 00:00:1745443639.726894    9401 service.cc:153]   StreamExecutor device (0): Tesla T4, Compute Capability 7.5\n",
      "2025-04-23 23:27:19.828342: I tensorflow/compiler/mlir/tensorflow/utils/dump_mlir_util.cc:268] disabling MLIR crash reproducer, set env var `MLIR_CRASH_REPRODUCER_DIRECTORY` to enable.\n",
      "2025-04-23 23:27:20.336069: I external/local_xla/xla/stream_executor/cuda/cuda_dnn.cc:465] Loaded cuDNN version 8907\n"
     ]
    },
    {
     "name": "stdout",
     "output_type": "stream",
     "text": [
      "\u001b[1m   59/15625\u001b[0m \u001b[37m━━━━━━━━━━━━━━━━━━━━\u001b[0m \u001b[1m41s\u001b[0m 3ms/step - functional_3_kl_loss: 0.0988 - functional_3_reconstruction_loss: 84.4241 - loss: 85.0892 "
     ]
    },
    {
     "name": "stderr",
     "output_type": "stream",
     "text": [
      "I0000 00:00:1745443647.805265    9401 device_compiler.h:188] Compiled cluster using XLA!  This line is logged at most once for the lifetime of the process.\n"
     ]
    },
    {
     "name": "stdout",
     "output_type": "stream",
     "text": [
      "\u001b[1m15625/15625\u001b[0m \u001b[32m━━━━━━━━━━━━━━━━━━━━\u001b[0m\u001b[37m\u001b[0m \u001b[1m67s\u001b[0m 3ms/step - functional_3_kl_loss: 45.3553 - functional_3_reconstruction_loss: 72.9290 - loss: 96.3175 - val_functional_3_kl_loss: inf - val_functional_3_reconstruction_loss: 75540934835652526080.0000 - val_loss: inf - learning_rate: 0.0100\n",
      "Epoch 2/100\n",
      "\u001b[1m15625/15625\u001b[0m \u001b[32m━━━━━━━━━━━━━━━━━━━━\u001b[0m\u001b[37m\u001b[0m \u001b[1m49s\u001b[0m 3ms/step - functional_3_kl_loss: 5.4590 - functional_3_reconstruction_loss: 71.3943 - loss: 74.3466 - val_functional_3_kl_loss: 5.4766 - val_functional_3_reconstruction_loss: 71.7709 - val_loss: 74.5191 - learning_rate: 0.0100\n",
      "Epoch 3/100\n",
      "\u001b[1m15625/15625\u001b[0m \u001b[32m━━━━━━━━━━━━━━━━━━━━\u001b[0m\u001b[37m\u001b[0m \u001b[1m50s\u001b[0m 3ms/step - functional_3_kl_loss: 5.5733 - functional_3_reconstruction_loss: 71.3935 - loss: 74.2003 - val_functional_3_kl_loss: 5.6942 - val_functional_3_reconstruction_loss: 71.6622 - val_loss: 74.5130 - learning_rate: 0.0100\n",
      "Epoch 4/100\n",
      "\u001b[1m15625/15625\u001b[0m \u001b[32m━━━━━━━━━━━━━━━━━━━━\u001b[0m\u001b[37m\u001b[0m \u001b[1m49s\u001b[0m 3ms/step - functional_3_kl_loss: 5.5671 - functional_3_reconstruction_loss: 71.1895 - loss: 73.9830 - val_functional_3_kl_loss: 5.4898 - val_functional_3_reconstruction_loss: 71.7628 - val_loss: 74.5123 - learning_rate: 0.0100\n",
      "Epoch 5/100\n",
      "\u001b[1m15625/15625\u001b[0m \u001b[32m━━━━━━━━━━━━━━━━━━━━\u001b[0m\u001b[37m\u001b[0m \u001b[1m49s\u001b[0m 3ms/step - functional_3_kl_loss: 5.5744 - functional_3_reconstruction_loss: 71.3513 - loss: 74.1477 - val_functional_3_kl_loss: 5.6342 - val_functional_3_reconstruction_loss: 71.6908 - val_loss: 74.5108 - learning_rate: 0.0100\n",
      "Epoch 6/100\n",
      "\u001b[1m15625/15625\u001b[0m \u001b[32m━━━━━━━━━━━━━━━━━━━━\u001b[0m\u001b[37m\u001b[0m \u001b[1m49s\u001b[0m 3ms/step - functional_3_kl_loss: 5.5662 - functional_3_reconstruction_loss: 71.1725 - loss: 73.9610 - val_functional_3_kl_loss: 5.3035 - val_functional_3_reconstruction_loss: 71.8595 - val_loss: 74.5191 - learning_rate: 0.0100\n",
      "Epoch 7/100\n",
      "\u001b[1m15625/15625\u001b[0m \u001b[32m━━━━━━━━━━━━━━━━━━━━\u001b[0m\u001b[37m\u001b[0m \u001b[1m49s\u001b[0m 3ms/step - functional_3_kl_loss: 5.5734 - functional_3_reconstruction_loss: 71.4114 - loss: 74.2010 - val_functional_3_kl_loss: 5.5114 - val_functional_3_reconstruction_loss: 71.7515 - val_loss: 74.5087 - learning_rate: 0.0100\n",
      "Epoch 8/100\n",
      "\u001b[1m15625/15625\u001b[0m \u001b[32m━━━━━━━━━━━━━━━━━━━━\u001b[0m\u001b[37m\u001b[0m \u001b[1m49s\u001b[0m 3ms/step - functional_3_kl_loss: 5.5661 - functional_3_reconstruction_loss: 71.2041 - loss: 73.9888 - val_functional_3_kl_loss: 5.5679 - val_functional_3_reconstruction_loss: 71.7242 - val_loss: 74.5096 - learning_rate: 0.0100\n",
      "Epoch 9/100\n",
      "\u001b[1m15625/15625\u001b[0m \u001b[32m━━━━━━━━━━━━━━━━━━━━\u001b[0m\u001b[37m\u001b[0m \u001b[1m49s\u001b[0m 3ms/step - functional_3_kl_loss: 5.5730 - functional_3_reconstruction_loss: 71.3747 - loss: 74.1634 - val_functional_3_kl_loss: 5.6069 - val_functional_3_reconstruction_loss: 71.7034 - val_loss: 74.5113 - learning_rate: 0.0100\n",
      "Epoch 10/100\n",
      "\u001b[1m15625/15625\u001b[0m \u001b[32m━━━━━━━━━━━━━━━━━━━━\u001b[0m\u001b[37m\u001b[0m \u001b[1m49s\u001b[0m 3ms/step - functional_3_kl_loss: 5.5678 - functional_3_reconstruction_loss: 71.2721 - loss: 74.0580 - val_functional_3_kl_loss: 5.8278 - val_functional_3_reconstruction_loss: 71.5977 - val_loss: 74.5140 - learning_rate: 0.0100\n",
      "Epoch 11/100\n",
      "\u001b[1m15625/15625\u001b[0m \u001b[32m━━━━━━━━━━━━━━━━━━━━\u001b[0m\u001b[37m\u001b[0m \u001b[1m50s\u001b[0m 3ms/step - functional_3_kl_loss: 5.5659 - functional_3_reconstruction_loss: 71.3893 - loss: 74.1747 - val_functional_3_kl_loss: 5.5962 - val_functional_3_reconstruction_loss: 71.7105 - val_loss: 74.5110 - learning_rate: 0.0100\n",
      "Epoch 12/100\n",
      "\u001b[1m15625/15625\u001b[0m \u001b[32m━━━━━━━━━━━━━━━━━━━━\u001b[0m\u001b[37m\u001b[0m \u001b[1m49s\u001b[0m 3ms/step - functional_3_kl_loss: 5.5545 - functional_3_reconstruction_loss: 71.4551 - loss: 74.2327 - val_functional_3_kl_loss: 5.6082 - val_functional_3_reconstruction_loss: 71.7023 - val_loss: 74.5079 - learning_rate: 1.0000e-03\n",
      "Epoch 13/100\n",
      "\u001b[1m15625/15625\u001b[0m \u001b[32m━━━━━━━━━━━━━━━━━━━━\u001b[0m\u001b[37m\u001b[0m \u001b[1m50s\u001b[0m 3ms/step - functional_3_kl_loss: 5.5705 - functional_3_reconstruction_loss: 71.6861 - loss: 74.4716 - val_functional_3_kl_loss: 5.5700 - val_functional_3_reconstruction_loss: 71.7216 - val_loss: 74.5080 - learning_rate: 1.0000e-03\n",
      "Epoch 14/100\n",
      "\u001b[1m15625/15625\u001b[0m \u001b[32m━━━━━━━━━━━━━━━━━━━━\u001b[0m\u001b[37m\u001b[0m \u001b[1m50s\u001b[0m 3ms/step - functional_3_kl_loss: 5.5721 - functional_3_reconstruction_loss: 71.3984 - loss: 74.1849 - val_functional_3_kl_loss: 5.5312 - val_functional_3_reconstruction_loss: 71.7412 - val_loss: 74.5081 - learning_rate: 1.0000e-03\n",
      "Epoch 15/100\n",
      "\u001b[1m15625/15625\u001b[0m \u001b[32m━━━━━━━━━━━━━━━━━━━━\u001b[0m\u001b[37m\u001b[0m \u001b[1m50s\u001b[0m 3ms/step - functional_3_kl_loss: 5.5656 - functional_3_reconstruction_loss: 71.4893 - loss: 74.2726 - val_functional_3_kl_loss: 5.5990 - val_functional_3_reconstruction_loss: 71.7068 - val_loss: 74.5085 - learning_rate: 1.0000e-03\n",
      "Epoch 16/100\n",
      "\u001b[1m15625/15625\u001b[0m \u001b[32m━━━━━━━━━━━━━━━━━━━━\u001b[0m\u001b[37m\u001b[0m \u001b[1m50s\u001b[0m 3ms/step - functional_3_kl_loss: 5.5707 - functional_3_reconstruction_loss: 71.2290 - loss: 74.0148 - val_functional_3_kl_loss: 5.6058 - val_functional_3_reconstruction_loss: 71.7031 - val_loss: 74.5079 - learning_rate: 1.0000e-03\n",
      "Epoch 17/100\n",
      "\u001b[1m15625/15625\u001b[0m \u001b[32m━━━━━━━━━━━━━━━━━━━━\u001b[0m\u001b[37m\u001b[0m \u001b[1m50s\u001b[0m 3ms/step - functional_3_kl_loss: 5.5773 - functional_3_reconstruction_loss: 71.5192 - loss: 74.3082 - val_functional_3_kl_loss: 5.5586 - val_functional_3_reconstruction_loss: 71.7269 - val_loss: 74.5077 - learning_rate: 1.0000e-04\n",
      "Epoch 18/100\n",
      "\u001b[1m15625/15625\u001b[0m \u001b[32m━━━━━━━━━━━━━━━━━━━━\u001b[0m\u001b[37m\u001b[0m \u001b[1m50s\u001b[0m 3ms/step - functional_3_kl_loss: 5.5663 - functional_3_reconstruction_loss: 71.5392 - loss: 74.3225 - val_functional_3_kl_loss: 5.5622 - val_functional_3_reconstruction_loss: 71.7255 - val_loss: 74.5077 - learning_rate: 1.0000e-04\n",
      "Epoch 19/100\n",
      "\u001b[1m15625/15625\u001b[0m \u001b[32m━━━━━━━━━━━━━━━━━━━━\u001b[0m\u001b[37m\u001b[0m \u001b[1m49s\u001b[0m 3ms/step - functional_3_kl_loss: 5.5684 - functional_3_reconstruction_loss: 71.5206 - loss: 74.3049 - val_functional_3_kl_loss: 5.5703 - val_functional_3_reconstruction_loss: 71.7212 - val_loss: 74.5077 - learning_rate: 1.0000e-04\n",
      "Epoch 20/100\n",
      "\u001b[1m15625/15625\u001b[0m \u001b[32m━━━━━━━━━━━━━━━━━━━━\u001b[0m\u001b[37m\u001b[0m \u001b[1m49s\u001b[0m 3ms/step - functional_3_kl_loss: 5.5665 - functional_3_reconstruction_loss: 71.1703 - loss: 73.9535 - val_functional_3_kl_loss: 5.5728 - val_functional_3_reconstruction_loss: 71.7199 - val_loss: 74.5077 - learning_rate: 1.0000e-04\n",
      "Epoch 21/100\n",
      "\u001b[1m15625/15625\u001b[0m \u001b[32m━━━━━━━━━━━━━━━━━━━━\u001b[0m\u001b[37m\u001b[0m \u001b[1m49s\u001b[0m 3ms/step - functional_3_kl_loss: 5.5676 - functional_3_reconstruction_loss: 71.3568 - loss: 74.1407 - val_functional_3_kl_loss: 5.5571 - val_functional_3_reconstruction_loss: 71.7280 - val_loss: 74.5077 - learning_rate: 1.0000e-04\n",
      "Epoch 22/100\n",
      "\u001b[1m15625/15625\u001b[0m \u001b[32m━━━━━━━━━━━━━━━━━━━━\u001b[0m\u001b[37m\u001b[0m \u001b[1m49s\u001b[0m 3ms/step - functional_3_kl_loss: 5.5613 - functional_3_reconstruction_loss: 71.5558 - loss: 74.3367 - val_functional_3_kl_loss: 5.5661 - val_functional_3_reconstruction_loss: 71.7234 - val_loss: 74.5077 - learning_rate: 1.0000e-05\n",
      "Epoch 23/100\n",
      "\u001b[1m15625/15625\u001b[0m \u001b[32m━━━━━━━━━━━━━━━━━━━━\u001b[0m\u001b[37m\u001b[0m \u001b[1m49s\u001b[0m 3ms/step - functional_3_kl_loss: 5.5674 - functional_3_reconstruction_loss: 71.3829 - loss: 74.1667 - val_functional_3_kl_loss: 5.5691 - val_functional_3_reconstruction_loss: 71.7219 - val_loss: 74.5077 - learning_rate: 1.0000e-05\n",
      "Epoch 24/100\n",
      "\u001b[1m15625/15625\u001b[0m \u001b[32m━━━━━━━━━━━━━━━━━━━━\u001b[0m\u001b[37m\u001b[0m \u001b[1m49s\u001b[0m 3ms/step - functional_3_kl_loss: 5.5690 - functional_3_reconstruction_loss: 71.3943 - loss: 74.1788 - val_functional_3_kl_loss: 5.5675 - val_functional_3_reconstruction_loss: 71.7225 - val_loss: 74.5077 - learning_rate: 1.0000e-05\n",
      "Epoch 25/100\n",
      "\u001b[1m15625/15625\u001b[0m \u001b[32m━━━━━━━━━━━━━━━━━━━━\u001b[0m\u001b[37m\u001b[0m \u001b[1m49s\u001b[0m 3ms/step - functional_3_kl_loss: 5.5685 - functional_3_reconstruction_loss: 71.3606 - loss: 74.1449 - val_functional_3_kl_loss: 5.5664 - val_functional_3_reconstruction_loss: 71.7231 - val_loss: 74.5077 - learning_rate: 1.0000e-05\n",
      "Epoch 26/100\n",
      "\u001b[1m15625/15625\u001b[0m \u001b[32m━━━━━━━━━━━━━━━━━━━━\u001b[0m\u001b[37m\u001b[0m \u001b[1m49s\u001b[0m 3ms/step - functional_3_kl_loss: 5.5666 - functional_3_reconstruction_loss: 71.3004 - loss: 74.0837 - val_functional_3_kl_loss: 5.5665 - val_functional_3_reconstruction_loss: 71.7229 - val_loss: 74.5077 - learning_rate: 1.0000e-05\n",
      "Epoch 27/100\n",
      "\u001b[1m15625/15625\u001b[0m \u001b[32m━━━━━━━━━━━━━━━━━━━━\u001b[0m\u001b[37m\u001b[0m \u001b[1m49s\u001b[0m 3ms/step - functional_3_kl_loss: 5.5678 - functional_3_reconstruction_loss: 71.5921 - loss: 74.3762 - val_functional_3_kl_loss: 5.5650 - val_functional_3_reconstruction_loss: 71.7239 - val_loss: 74.5077 - learning_rate: 1.0000e-05\n",
      "Epoch 28/100\n",
      "\u001b[1m15625/15625\u001b[0m \u001b[32m━━━━━━━━━━━━━━━━━━━━\u001b[0m\u001b[37m\u001b[0m \u001b[1m49s\u001b[0m 3ms/step - functional_3_kl_loss: 5.5660 - functional_3_reconstruction_loss: 71.5376 - loss: 74.3207 - val_functional_3_kl_loss: 5.5650 - val_functional_3_reconstruction_loss: 71.7239 - val_loss: 74.5077 - learning_rate: 1.0000e-05\n",
      "Epoch 29/100\n",
      "\u001b[1m15625/15625\u001b[0m \u001b[32m━━━━━━━━━━━━━━━━━━━━\u001b[0m\u001b[37m\u001b[0m \u001b[1m49s\u001b[0m 3ms/step - functional_3_kl_loss: 5.5659 - functional_3_reconstruction_loss: 71.6590 - loss: 74.4420 - val_functional_3_kl_loss: 5.5649 - val_functional_3_reconstruction_loss: 71.7240 - val_loss: 74.5076 - learning_rate: 1.0000e-05\n",
      "Epoch 30/100\n",
      "\u001b[1m15625/15625\u001b[0m \u001b[32m━━━━━━━━━━━━━━━━━━━━\u001b[0m\u001b[37m\u001b[0m \u001b[1m49s\u001b[0m 3ms/step - functional_3_kl_loss: 5.5661 - functional_3_reconstruction_loss: 71.3381 - loss: 74.1212 - val_functional_3_kl_loss: 5.5664 - val_functional_3_reconstruction_loss: 71.7232 - val_loss: 74.5076 - learning_rate: 1.0000e-05\n",
      "Epoch 31/100\n",
      "\u001b[1m15625/15625\u001b[0m \u001b[32m━━━━━━━━━━━━━━━━━━━━\u001b[0m\u001b[37m\u001b[0m \u001b[1m50s\u001b[0m 3ms/step - functional_3_kl_loss: 5.5667 - functional_3_reconstruction_loss: 71.4380 - loss: 74.2212 - val_functional_3_kl_loss: 5.5668 - val_functional_3_reconstruction_loss: 71.7227 - val_loss: 74.5077 - learning_rate: 1.0000e-05\n",
      "Epoch 32/100\n",
      "\u001b[1m15625/15625\u001b[0m \u001b[32m━━━━━━━━━━━━━━━━━━━━\u001b[0m\u001b[37m\u001b[0m \u001b[1m50s\u001b[0m 3ms/step - functional_3_kl_loss: 5.5671 - functional_3_reconstruction_loss: 71.3032 - loss: 74.0868 - val_functional_3_kl_loss: 5.5689 - val_functional_3_reconstruction_loss: 71.7221 - val_loss: 74.5077 - learning_rate: 1.0000e-05\n",
      "Epoch 33/100\n",
      "\u001b[1m15625/15625\u001b[0m \u001b[32m━━━━━━━━━━━━━━━━━━━━\u001b[0m\u001b[37m\u001b[0m \u001b[1m50s\u001b[0m 3ms/step - functional_3_kl_loss: 5.5681 - functional_3_reconstruction_loss: 71.2970 - loss: 74.0809 - val_functional_3_kl_loss: 5.5675 - val_functional_3_reconstruction_loss: 71.7226 - val_loss: 74.5077 - learning_rate: 1.0000e-05\n",
      "Epoch 34/100\n",
      "\u001b[1m15625/15625\u001b[0m \u001b[32m━━━━━━━━━━━━━━━━━━━━\u001b[0m\u001b[37m\u001b[0m \u001b[1m50s\u001b[0m 3ms/step - functional_3_kl_loss: 5.5660 - functional_3_reconstruction_loss: 71.4074 - loss: 74.1905 - val_functional_3_kl_loss: 5.5661 - val_functional_3_reconstruction_loss: 71.7235 - val_loss: 74.5077 - learning_rate: 1.0000e-05\n",
      "Epoch 35/100\n",
      "\u001b[1m15625/15625\u001b[0m \u001b[32m━━━━━━━━━━━━━━━━━━━━\u001b[0m\u001b[37m\u001b[0m \u001b[1m50s\u001b[0m 3ms/step - functional_3_kl_loss: 5.5651 - functional_3_reconstruction_loss: 71.6176 - loss: 74.4002 - val_functional_3_kl_loss: 5.5661 - val_functional_3_reconstruction_loss: 71.7235 - val_loss: 74.5077 - learning_rate: 1.0000e-05\n",
      "Epoch 36/100\n",
      "\u001b[1m15625/15625\u001b[0m \u001b[32m━━━━━━━━━━━━━━━━━━━━\u001b[0m\u001b[37m\u001b[0m \u001b[1m50s\u001b[0m 3ms/step - functional_3_kl_loss: 5.5664 - functional_3_reconstruction_loss: 71.2145 - loss: 73.9976 - val_functional_3_kl_loss: 5.5667 - val_functional_3_reconstruction_loss: 71.7228 - val_loss: 74.5076 - learning_rate: 1.0000e-05\n",
      "Epoch 37/100\n",
      "\u001b[1m15625/15625\u001b[0m \u001b[32m━━━━━━━━━━━━━━━━━━━━\u001b[0m\u001b[37m\u001b[0m \u001b[1m50s\u001b[0m 3ms/step - functional_3_kl_loss: 5.5676 - functional_3_reconstruction_loss: 71.5697 - loss: 74.3534 - val_functional_3_kl_loss: 5.5667 - val_functional_3_reconstruction_loss: 71.7228 - val_loss: 74.5077 - learning_rate: 1.0000e-05\n"
     ]
    },
    {
     "name": "stderr",
     "output_type": "stream",
     "text": [
      "WARNING:absl:You are saving your model as an HDF5 file via `model.save()` or `keras.saving.save_model(model)`. This file format is considered legacy. We recommend using instead the native Keras format, e.g. `model.save('my_model.keras')` or `keras.saving.save_model(model, 'my_model.keras')`. \n",
      "WARNING:absl:You are saving your model as an HDF5 file via `model.save()` or `keras.saving.save_model(model)`. This file format is considered legacy. We recommend using instead the native Keras format, e.g. `model.save('my_model.keras')` or `keras.saving.save_model(model, 'my_model.keras')`. \n",
      "WARNING:absl:You are saving your model as an HDF5 file via `model.save()` or `keras.saving.save_model(model)`. This file format is considered legacy. We recommend using instead the native Keras format, e.g. `model.save('my_model.keras')` or `keras.saving.save_model(model, 'my_model.keras')`. \n"
     ]
    }
   ],
   "source": [
    "taef.train_VAE(\n",
    "    datasets=datasets,\n",
    "    h_dim_1=16,\n",
    "    h_dim_2=8,\n",
    "    latent_dim=3,\n",
    "    beta=BETA,\n",
    "    model_path=MODEL_PATH,\n",
    "    epochs=100\n",
    ")"
   ]
  },
  {
   "cell_type": "code",
   "execution_count": 5,
   "id": "458e7d5c-efb7-491e-b4e9-0dab9919ce56",
   "metadata": {
    "scrolled": true
   },
   "outputs": [
    {
     "name": "stderr",
     "output_type": "stream",
     "text": [
      "WARNING:absl:Compiled the loaded model, but the compiled metrics have yet to be built. `model.compile_metrics` will be empty until you train or evaluate the model.\n",
      "WARNING:absl:No training configuration found in the save file, so the model was *not* compiled. Compile it manually.\n",
      "WARNING:absl:No training configuration found in the save file, so the model was *not* compiled. Compile it manually.\n"
     ]
    },
    {
     "name": "stdout",
     "output_type": "stream",
     "text": [
      "Evaluating Ato4l set...\n",
      "\u001b[1m1750/1750\u001b[0m \u001b[32m━━━━━━━━━━━━━━━━━━━━\u001b[0m\u001b[37m\u001b[0m \u001b[1m4s\u001b[0m 2ms/step\n",
      "Evaluating hChToTauNu set...\n",
      "\u001b[1m23759/23759\u001b[0m \u001b[32m━━━━━━━━━━━━━━━━━━━━\u001b[0m\u001b[37m\u001b[0m \u001b[1m35s\u001b[0m 1ms/step\n",
      "Evaluating hToTauTau set...\n",
      "\u001b[1m21603/21603\u001b[0m \u001b[32m━━━━━━━━━━━━━━━━━━━━\u001b[0m\u001b[37m\u001b[0m \u001b[1m32s\u001b[0m 1ms/step\n",
      "Evaluating leptoquark set...\n",
      "\u001b[1m10642/10642\u001b[0m \u001b[32m━━━━━━━━━━━━━━━━━━━━\u001b[0m\u001b[37m\u001b[0m \u001b[1m15s\u001b[0m 1ms/step\n",
      "Evaluating train set...\n",
      "\u001b[1m62500/62500\u001b[0m \u001b[32m━━━━━━━━━━━━━━━━━━━━\u001b[0m\u001b[37m\u001b[0m \u001b[1m92s\u001b[0m 1ms/step\n",
      "Evaluating val set...\n",
      "\u001b[1m31250/31250\u001b[0m \u001b[32m━━━━━━━━━━━━━━━━━━━━\u001b[0m\u001b[37m\u001b[0m \u001b[1m46s\u001b[0m 1ms/step\n",
      "Evaluating test set...\n",
      "\u001b[1m31250/31250\u001b[0m \u001b[32m━━━━━━━━━━━━━━━━━━━━\u001b[0m\u001b[37m\u001b[0m \u001b[1m46s\u001b[0m 1ms/step\n",
      "Epoch 1/100\n",
      "\u001b[1m15625/15625\u001b[0m \u001b[32m━━━━━━━━━━━━━━━━━━━━\u001b[0m\u001b[37m\u001b[0m \u001b[1m39s\u001b[0m 2ms/step - loss: 46719.5742 - val_loss: 1434613.5000 - learning_rate: 0.0100\n",
      "Epoch 2/100\n",
      "\u001b[1m15625/15625\u001b[0m \u001b[32m━━━━━━━━━━━━━━━━━━━━\u001b[0m\u001b[37m\u001b[0m \u001b[1m32s\u001b[0m 2ms/step - loss: 47147.2734 - val_loss: 6878944.0000 - learning_rate: 0.0100\n",
      "Epoch 3/100\n",
      "\u001b[1m15625/15625\u001b[0m \u001b[32m━━━━━━━━━━━━━━━━━━━━\u001b[0m\u001b[37m\u001b[0m \u001b[1m32s\u001b[0m 2ms/step - loss: 28910.0996 - val_loss: 20306826.0000 - learning_rate: 0.0100\n",
      "Epoch 4/100\n",
      "\u001b[1m15625/15625\u001b[0m \u001b[32m━━━━━━━━━━━━━━━━━━━━\u001b[0m\u001b[37m\u001b[0m \u001b[1m32s\u001b[0m 2ms/step - loss: 26760.0840 - val_loss: 1414263.0000 - learning_rate: 0.0100\n",
      "Epoch 5/100\n",
      "\u001b[1m15625/15625\u001b[0m \u001b[32m━━━━━━━━━━━━━━━━━━━━\u001b[0m\u001b[37m\u001b[0m \u001b[1m32s\u001b[0m 2ms/step - loss: 34279.7031 - val_loss: 168682368.0000 - learning_rate: 0.0100\n",
      "Epoch 6/100\n",
      "\u001b[1m15625/15625\u001b[0m \u001b[32m━━━━━━━━━━━━━━━━━━━━\u001b[0m\u001b[37m\u001b[0m \u001b[1m32s\u001b[0m 2ms/step - loss: 30193.0527 - val_loss: 6406855.0000 - learning_rate: 0.0100\n",
      "Epoch 7/100\n",
      "\u001b[1m15625/15625\u001b[0m \u001b[32m━━━━━━━━━━━━━━━━━━━━\u001b[0m\u001b[37m\u001b[0m \u001b[1m32s\u001b[0m 2ms/step - loss: 54602.5625 - val_loss: 49933960.0000 - learning_rate: 0.0100\n",
      "Epoch 8/100\n",
      "\u001b[1m15625/15625\u001b[0m \u001b[32m━━━━━━━━━━━━━━━━━━━━\u001b[0m\u001b[37m\u001b[0m \u001b[1m32s\u001b[0m 2ms/step - loss: 30220.9023 - val_loss: 3315041.5000 - learning_rate: 0.0100\n",
      "Epoch 9/100\n",
      "\u001b[1m15625/15625\u001b[0m \u001b[32m━━━━━━━━━━━━━━━━━━━━\u001b[0m\u001b[37m\u001b[0m \u001b[1m32s\u001b[0m 2ms/step - loss: 27734.4258 - val_loss: 10087917.0000 - learning_rate: 1.0000e-03\n",
      "Epoch 10/100\n",
      "\u001b[1m15625/15625\u001b[0m \u001b[32m━━━━━━━━━━━━━━━━━━━━\u001b[0m\u001b[37m\u001b[0m \u001b[1m32s\u001b[0m 2ms/step - loss: 17098.8184 - val_loss: 11627836.0000 - learning_rate: 1.0000e-03\n",
      "Epoch 11/100\n",
      "\u001b[1m15625/15625\u001b[0m \u001b[32m━━━━━━━━━━━━━━━━━━━━\u001b[0m\u001b[37m\u001b[0m \u001b[1m32s\u001b[0m 2ms/step - loss: 33740.7734 - val_loss: 11667354.0000 - learning_rate: 1.0000e-03\n",
      "Epoch 12/100\n",
      "\u001b[1m15625/15625\u001b[0m \u001b[32m━━━━━━━━━━━━━━━━━━━━\u001b[0m\u001b[37m\u001b[0m \u001b[1m32s\u001b[0m 2ms/step - loss: 23508.4375 - val_loss: 30218274.0000 - learning_rate: 1.0000e-03\n",
      "\u001b[1m1750/1750\u001b[0m \u001b[32m━━━━━━━━━━━━━━━━━━━━\u001b[0m\u001b[37m\u001b[0m \u001b[1m3s\u001b[0m 1ms/step\n",
      "\u001b[1m23759/23759\u001b[0m \u001b[32m━━━━━━━━━━━━━━━━━━━━\u001b[0m\u001b[37m\u001b[0m \u001b[1m27s\u001b[0m 1ms/step\n",
      "\u001b[1m21603/21603\u001b[0m \u001b[32m━━━━━━━━━━━━━━━━━━━━\u001b[0m\u001b[37m\u001b[0m \u001b[1m24s\u001b[0m 1ms/step\n",
      "\u001b[1m10642/10642\u001b[0m \u001b[32m━━━━━━━━━━━━━━━━━━━━\u001b[0m\u001b[37m\u001b[0m \u001b[1m12s\u001b[0m 1ms/step\n",
      "\u001b[1m62500/62500\u001b[0m \u001b[32m━━━━━━━━━━━━━━━━━━━━\u001b[0m\u001b[37m\u001b[0m \u001b[1m70s\u001b[0m 1ms/step\n",
      "\u001b[1m31250/31250\u001b[0m \u001b[32m━━━━━━━━━━━━━━━━━━━━\u001b[0m\u001b[37m\u001b[0m \u001b[1m35s\u001b[0m 1ms/step\n",
      "\u001b[1m31250/31250\u001b[0m \u001b[32m━━━━━━━━━━━━━━━━━━━━\u001b[0m\u001b[37m\u001b[0m \u001b[1m35s\u001b[0m 1ms/step\n"
     ]
    }
   ],
   "source": [
    "datasets = taef.evaluate_VAE(\n",
    "    datasets=datasets,\n",
    "    model_path=MODEL_PATH,\n",
    "    plots_path=PLOTS_PATH,\n",
    "    beta=BETA,\n",
    "    train_student=True\n",
    ")"
   ]
  },
  {
   "cell_type": "code",
   "execution_count": 6,
   "id": "ff1f53e3-ecec-483e-837e-d906d0867983",
   "metadata": {},
   "outputs": [
    {
     "name": "stdout",
     "output_type": "stream",
     "text": [
      "[82.17086029  0.         -1.56314683  0.          0.          0.\n",
      "  0.          0.          0.          0.          0.          0.\n",
      "  0.          0.          0.         26.40037155  0.99070734  2.22225761\n",
      "  0.          0.          0.          0.          0.          0.\n",
      "  0.          0.          0.          0.          0.          0.\n",
      "  0.          0.          0.          0.          0.          0.\n",
      "  0.          0.          0.          0.          0.          0.\n",
      "  0.          0.          0.          0.          0.          0.\n",
      "  0.          0.          0.          0.          0.          0.\n",
      "  0.          0.          0.        ]\n",
      "[ 5.62138462e+00  6.82331459e-40  1.38612289e-03  4.76258612e+00\n",
      " -8.30323188e-05  1.26360304e-04  2.18646675e-02 -3.04129295e-04\n",
      " -3.58928664e-05  2.09286669e-03 -9.84011349e-05 -9.57603406e-05\n",
      "  1.24382741e-05 -2.13273808e-08 -1.04735894e-10  4.54393625e+00\n",
      "  2.11114195e-04 -1.28356903e-03  1.58374365e-02  1.65948368e-04\n",
      "  4.48845967e-05  5.88019204e-04 -5.42255220e-05 -2.08128287e-04\n",
      "  1.35822586e-06  1.23028400e-39 -2.80343390e-37  4.22540760e+00\n",
      " -2.13237974e-04 -1.15584384e-03  1.98508465e+00 -1.20892876e-03\n",
      " -3.62271123e-04  6.22933507e-01  4.36055707e-05  2.36021966e-04\n",
      "  2.12785840e-01 -7.47030208e-05  3.05651833e-04  8.42640325e-02\n",
      "  2.78408770e-05  3.61394123e-05  3.63691300e-02 -1.74657362e-06\n",
      " -1.58919123e-04  1.43827274e-02  4.99444504e-05 -5.89306001e-06\n",
      "  5.78111364e-03 -7.81971030e-05 -3.01127038e-05  2.19119899e-03\n",
      " -2.72389356e-04  3.54140997e-04  8.54145794e-04 -4.40941876e-05\n",
      " -2.89189520e-05]\n",
      "[ 1.7376125  -1.6969044  -0.59268296]\n",
      "[-0.11626258 -1.7149863  -3.0152662 ]\n"
     ]
    }
   ],
   "source": [
    "tag = 'test'\n",
    "idx=0\n",
    "print(datasets[tag]['data'][idx])\n",
    "print(datasets[tag]['y_pred'][idx])\n",
    "print(datasets[tag]['z_mean'][idx])\n",
    "print(datasets[tag]['z_log_var'][idx])"
   ]
  },
  {
   "cell_type": "code",
   "execution_count": null,
   "id": "31e97693-1de7-4ab6-9801-00aa8fa3e9c7",
   "metadata": {},
   "outputs": [],
   "source": []
  },
  {
   "cell_type": "code",
   "execution_count": null,
   "id": "aebd3a58-65ea-4a3c-86d8-972c94bf19f7",
   "metadata": {
    "jupyter": {
     "source_hidden": true
    },
    "scrolled": true
   },
   "outputs": [],
   "source": [
    "# for tag, data_dict in datasets.items():\n",
    "#     print(f'{tag}:')\n",
    "#     for key, value in data_dict.items():\n",
    "#         print(f'{key}: {value.shape}')"
   ]
  },
  {
   "cell_type": "code",
   "execution_count": null,
   "id": "5ca1b802-9b1c-4359-b998-8c68c4bad97f",
   "metadata": {},
   "outputs": [],
   "source": []
  }
 ],
 "metadata": {
  "kernelspec": {
   "display_name": "NERSC Python",
   "language": "python",
   "name": "python3"
  },
  "language_info": {
   "codemirror_mode": {
    "name": "ipython",
    "version": 3
   },
   "file_extension": ".py",
   "mimetype": "text/x-python",
   "name": "python",
   "nbconvert_exporter": "python",
   "pygments_lexer": "ipython3",
   "version": "3.11.7"
  }
 },
 "nbformat": 4,
 "nbformat_minor": 5
}
