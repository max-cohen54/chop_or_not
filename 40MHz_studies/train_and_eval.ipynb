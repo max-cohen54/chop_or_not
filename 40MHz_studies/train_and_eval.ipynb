{
 "cells": [
  {
   "cell_type": "code",
   "execution_count": 1,
   "id": "32b88cb9-4c3e-497c-be72-020a1a83cba1",
   "metadata": {},
   "outputs": [
    {
     "name": "stderr",
     "output_type": "stream",
     "text": [
      "2025-04-27 14:20:27.952716: I tensorflow/core/platform/cpu_feature_guard.cc:182] This TensorFlow binary is optimized to use available CPU instructions in performance-critical operations.\n",
      "To enable the following instructions: AVX2 FMA, in other operations, rebuild TensorFlow with the appropriate compiler flags.\n",
      "2025-04-27 14:20:29.400932: W tensorflow/compiler/tf2tensorrt/utils/py_utils.cc:38] TF-TRT Warning: Could not find TensorRT\n"
     ]
    },
    {
     "name": "stdout",
     "output_type": "stream",
     "text": [
      "XGBoost not available. Only neural network student will be used.\n"
     ]
    }
   ],
   "source": [
    "import numpy as np\n",
    "import train_and_eval_functions as taef"
   ]
  },
  {
   "cell_type": "code",
   "execution_count": 2,
   "id": "2278055a-5489-4a99-843a-ff2d061729ab",
   "metadata": {},
   "outputs": [],
   "source": [
    "BETA = 1\n",
    "MODEL_PATH = '/global/homes/m/mcohen54/chop_or_not_development/trained_models/trial_5'\n",
    "PLOTS_PATH = MODEL_PATH+'/plots'\n",
    "H_DIM_1 = 16\n",
    "H_DIM_2 = 8\n",
    "LATENT_DIM = 3\n",
    "# ANNEALING_TYPE = 'cyclical'\n",
    "# WARMUP_EPOCHS=None \n",
    "# INCREASE_EPOCHS=None\n",
    "ANNEALING_TYPE = 'standard'\n",
    "WARMUP_EPOCHS=1\n",
    "INCREASE_EPOCHS=10\n",
    "LEARNING_RATES = [0.01, 0.001, 0.0001]\n",
    "STAGE_LENGTHS = [40, 30, 30]"
   ]
  },
  {
   "cell_type": "code",
   "execution_count": 3,
   "id": "2bd620c0-4582-4e75-ae51-9774dcb2b8bd",
   "metadata": {},
   "outputs": [
    {
     "name": "stdout",
     "output_type": "stream",
     "text": [
      "Booting up...\n",
      "Starting to load data...\n",
      "\n",
      "Loading hChToTauNu_13TeV_PU20.h5...\n",
      "Loading hToTauTau_13TeV_PU20.h5...\n",
      "Loading Ato4l_lepFilter_13TeV.h5...\n",
      "Loading background_for_training.h5...\n",
      "Loading leptoquark_LOWMASS_lepFilter_13TeV.h5...\n",
      "Beginning preprocessing...\n",
      "\n",
      "Load and preprocessing complete!\n",
      "\n"
     ]
    }
   ],
   "source": [
    "datasets = taef.load_and_preprocess(data_path='/global/homes/m/mcohen54/chop_or_not_development/data', standard_scaler=False)"
   ]
  },
  {
   "cell_type": "code",
   "execution_count": null,
   "id": "17ca4de2-b107-44c4-914a-c027caa09fed",
   "metadata": {
    "scrolled": true
   },
   "outputs": [
    {
     "name": "stdout",
     "output_type": "stream",
     "text": [
      "Initializing training procedure... booting up...\n",
      "Using standard beta annealing schedule\n",
      "Standard schedule phases:\n",
      "  - Warmup (β=0): 1 epochs\n",
      "  - Increase (β=0→1): 10 epochs\n",
      "  - Constant (β=1): 89 epochs\n",
      "\n",
      "Learning rate schedule (3 stages):\n",
      "  - Stage 1: epochs   0- 39, lr = 0.010000\n",
      "  - Stage 2: epochs  40- 69, lr = 0.001000\n",
      "  - Stage 3: epochs  70- 99, lr = 0.000100\n",
      "\n",
      "Initialization attempt 1/10\n"
     ]
    },
    {
     "name": "stderr",
     "output_type": "stream",
     "text": [
      "2025-04-27 14:20:48.218157: I tensorflow/core/common_runtime/gpu/gpu_device.cc:1635] Created device /job:localhost/replica:0/task:0/device:GPU:0 with 38366 MB memory:  -> device: 0, name: NVIDIA A100-SXM4-40GB, pci bus id: 0000:03:00.0, compute capability: 8.0\n",
      "2025-04-27 14:20:48.220825: I tensorflow/core/common_runtime/gpu/gpu_device.cc:1635] Created device /job:localhost/replica:0/task:0/device:GPU:1 with 38366 MB memory:  -> device: 1, name: NVIDIA A100-SXM4-40GB, pci bus id: 0000:41:00.0, compute capability: 8.0\n",
      "2025-04-27 14:20:48.222607: I tensorflow/core/common_runtime/gpu/gpu_device.cc:1635] Created device /job:localhost/replica:0/task:0/device:GPU:2 with 38366 MB memory:  -> device: 2, name: NVIDIA A100-SXM4-40GB, pci bus id: 0000:82:00.0, compute capability: 8.0\n",
      "2025-04-27 14:20:48.224350: I tensorflow/core/common_runtime/gpu/gpu_device.cc:1635] Created device /job:localhost/replica:0/task:0/device:GPU:3 with 38366 MB memory:  -> device: 3, name: NVIDIA A100-SXM4-40GB, pci bus id: 0000:c1:00.0, compute capability: 8.0\n",
      "2025-04-27 14:20:48.865464: I tensorflow/compiler/xla/stream_executor/cuda/cuda_blas.cc:637] TensorFloat-32 will be used for the matrix multiplication. This will only be logged once.\n"
     ]
    },
    {
     "name": "stdout",
     "output_type": "stream",
     "text": [
      "Successfully initialized network with valid losses!\n",
      "\n",
      "Starting training.\n"
     ]
    },
    {
     "name": "stderr",
     "output_type": "stream",
     "text": [
      "2025-04-27 14:20:49.476376: I tensorflow/core/common_runtime/executor.cc:1197] [/device:CPU:0] (DEBUG INFO) Executor start aborting (this does not indicate an error and you can ignore this message): INVALID_ARGUMENT: You must feed a value for placeholder tensor 'Placeholder/_0' with dtype float and shape [2000000,57]\n",
      "\t [[{{node Placeholder/_0}}]]\n"
     ]
    },
    {
     "name": "stdout",
     "output_type": "stream",
     "text": [
      "NaN detected in mean!\n",
      "mean stats: Tensor(\"cond/Min:0\", shape=(), dtype=float32) Tensor(\"cond/Max:0\", shape=(), dtype=float32)\n",
      "NaN detected in log_var!\n",
      "log_var stats: Tensor(\"cond_1/Min:0\", shape=(), dtype=float32) Tensor(\"cond_1/Max:0\", shape=(), dtype=float32)\n",
      "NaN detected in sampled z!\n",
      "z stats: Tensor(\"cond_2/Min:0\", shape=(), dtype=float32) Tensor(\"cond_2/Max:0\", shape=(), dtype=float32)\n",
      "NaN detected in mean!\n",
      "mean stats: Tensor(\"cond/Min:0\", shape=(), dtype=float32) Tensor(\"cond/Max:0\", shape=(), dtype=float32)\n",
      "NaN detected in log_var!\n",
      "log_var stats: Tensor(\"cond_1/Min:0\", shape=(), dtype=float32) Tensor(\"cond_1/Max:0\", shape=(), dtype=float32)\n",
      "NaN detected in sampled z!\n",
      "z stats: Tensor(\"cond_2/Min:0\", shape=(), dtype=float32) Tensor(\"cond_2/Max:0\", shape=(), dtype=float32)\n"
     ]
    },
    {
     "name": "stderr",
     "output_type": "stream",
     "text": [
      "2025-04-27 14:20:50.834901: I tensorflow/compiler/xla/service/service.cc:169] XLA service 0x7f6bdd2fb390 initialized for platform CUDA (this does not guarantee that XLA will be used). Devices:\n",
      "2025-04-27 14:20:50.834918: I tensorflow/compiler/xla/service/service.cc:177]   StreamExecutor device (0): NVIDIA A100-SXM4-40GB, Compute Capability 8.0\n",
      "2025-04-27 14:20:50.834921: I tensorflow/compiler/xla/service/service.cc:177]   StreamExecutor device (1): NVIDIA A100-SXM4-40GB, Compute Capability 8.0\n",
      "2025-04-27 14:20:50.834924: I tensorflow/compiler/xla/service/service.cc:177]   StreamExecutor device (2): NVIDIA A100-SXM4-40GB, Compute Capability 8.0\n",
      "2025-04-27 14:20:50.834926: I tensorflow/compiler/xla/service/service.cc:177]   StreamExecutor device (3): NVIDIA A100-SXM4-40GB, Compute Capability 8.0\n",
      "2025-04-27 14:20:50.839136: I tensorflow/compiler/mlir/tensorflow/utils/dump_mlir_util.cc:269] disabling MLIR crash reproducer, set env var `MLIR_CRASH_REPRODUCER_DIRECTORY` to enable.\n",
      "2025-04-27 14:20:50.867474: I tensorflow/compiler/xla/stream_executor/cuda/cuda_dnn.cc:424] Loaded cuDNN version 8901\n",
      "2025-04-27 14:20:50.981378: I ./tensorflow/compiler/jit/device_compiler.h:180] Compiled cluster using XLA!  This line is logged at most once for the lifetime of the process.\n",
      "2025-04-27 14:21:35.617884: I tensorflow/core/common_runtime/executor.cc:1197] [/device:CPU:0] (DEBUG INFO) Executor start aborting (this does not indicate an error and you can ignore this message): INVALID_ARGUMENT: You must feed a value for placeholder tensor 'Placeholder/_0' with dtype float and shape [1000000,57]\n",
      "\t [[{{node Placeholder/_0}}]]\n"
     ]
    },
    {
     "name": "stdout",
     "output_type": "stream",
     "text": [
      "Epoch 1/100\n",
      "Beta: 0.0000, Learning Rate: 0.010000\n",
      "Total Loss: 22633.1309 - Reconstruction: 22633.1309 - KL: 25000042037248.0000\n",
      "Val Total Loss: 109.8567 - Val Reconstruction: 109.8567 - Val KL: 163.5229\n"
     ]
    }
   ],
   "source": [
    "taef.train_VAE(\n",
    "    datasets=datasets,\n",
    "    h_dim_1=H_DIM_1,\n",
    "    h_dim_2=H_DIM_2,\n",
    "    latent_dim=LATENT_DIM,\n",
    "    model_path=MODEL_PATH,\n",
    "    epochs=100,\n",
    "    beta=BETA,\n",
    "    annealing_type=ANNEALING_TYPE,\n",
    "    warmup_epochs=WARMUP_EPOCHS,\n",
    "    increase_epochs=INCREASE_EPOCHS,\n",
    "    learning_rates=LEARNING_RATES,\n",
    "    stage_lengths=STAGE_LENGTHS\n",
    ")"
   ]
  },
  {
   "cell_type": "code",
   "execution_count": null,
   "id": "28e43304-48f4-4653-8ead-0d179c8089d8",
   "metadata": {
    "scrolled": true
   },
   "outputs": [],
   "source": [
    "datasets = taef.evaluate_VAE(\n",
    "    datasets=datasets,\n",
    "    model_path=MODEL_PATH,\n",
    "    plots_path=PLOTS_PATH,\n",
    "    h_dim_1=H_DIM_1,\n",
    "    h_dim_2=H_DIM_2,\n",
    "    latent_dim=LATENT_DIM,\n",
    "    beta=BETA,\n",
    "    train_students=True,\n",
    "    load_students=False\n",
    ")"
   ]
  },
  {
   "cell_type": "code",
   "execution_count": null,
   "id": "2164d92d-dab6-49dc-803b-0b55ee7aa2bf",
   "metadata": {},
   "outputs": [],
   "source": [
    "tag = 'test'\n",
    "idx=0\n",
    "print(datasets[tag]['data'][idx])\n",
    "print(datasets[tag]['y_pred'][idx])\n",
    "print(datasets[tag]['z_mean'][idx])\n",
    "print(datasets[tag]['z_log_var'][idx])"
   ]
  },
  {
   "cell_type": "code",
   "execution_count": null,
   "id": "6c6573b0-921b-487a-b0ca-324868264ca9",
   "metadata": {},
   "outputs": [],
   "source": []
  }
 ],
 "metadata": {
  "kernelspec": {
   "display_name": "tensorflow-2.12.0",
   "language": "python",
   "name": "tensorflow-2.12.0"
  },
  "language_info": {
   "codemirror_mode": {
    "name": "ipython",
    "version": 3
   },
   "file_extension": ".py",
   "mimetype": "text/x-python",
   "name": "python",
   "nbconvert_exporter": "python",
   "pygments_lexer": "ipython3",
   "version": "3.9.19"
  }
 },
 "nbformat": 4,
 "nbformat_minor": 5
}
