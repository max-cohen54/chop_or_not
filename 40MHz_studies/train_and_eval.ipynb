{
 "cells": [
  {
   "cell_type": "code",
   "execution_count": 1,
   "id": "32b88cb9-4c3e-497c-be72-020a1a83cba1",
   "metadata": {},
   "outputs": [
    {
     "name": "stderr",
     "output_type": "stream",
     "text": [
      "2025-04-24 06:07:14.759286: I tensorflow/core/platform/cpu_feature_guard.cc:182] This TensorFlow binary is optimized to use available CPU instructions in performance-critical operations.\n",
      "To enable the following instructions: AVX2 FMA, in other operations, rebuild TensorFlow with the appropriate compiler flags.\n",
      "2025-04-24 06:07:16.515529: W tensorflow/compiler/tf2tensorrt/utils/py_utils.cc:38] TF-TRT Warning: Could not find TensorRT\n"
     ]
    }
   ],
   "source": [
    "import numpy as np\n",
    "import train_and_eval_functions as taef"
   ]
  },
  {
   "cell_type": "code",
   "execution_count": 2,
   "id": "2278055a-5489-4a99-843a-ff2d061729ab",
   "metadata": {},
   "outputs": [],
   "source": [
    "BETA = 0.5\n",
    "MODEL_PATH = '/global/homes/m/mcohen54/chop_or_not_development/trained_models/trial_3'\n",
    "PLOTS_PATH = MODEL_PATH+'/plots'\n",
    "H_DIM_1 = 16\n",
    "H_DIM_2 = 8\n",
    "LATENT_DIM = 3"
   ]
  },
  {
   "cell_type": "code",
   "execution_count": 3,
   "id": "2bd620c0-4582-4e75-ae51-9774dcb2b8bd",
   "metadata": {},
   "outputs": [
    {
     "name": "stdout",
     "output_type": "stream",
     "text": [
      "Booting up...\n",
      "Starting to load data...\n",
      "\n",
      "Loading hChToTauNu_13TeV_PU20.h5...\n",
      "Loading hToTauTau_13TeV_PU20.h5...\n",
      "Loading Ato4l_lepFilter_13TeV.h5...\n",
      "Loading background_for_training.h5...\n",
      "Loading leptoquark_LOWMASS_lepFilter_13TeV.h5...\n",
      "Beginning preprocessing...\n",
      "\n",
      "Load and preprocessing complete!\n",
      "\n"
     ]
    }
   ],
   "source": [
    "datasets = taef.load_and_preprocess(data_path='/global/homes/m/mcohen54/chop_or_not_development/data', standard_scaler=False)"
   ]
  },
  {
   "cell_type": "code",
   "execution_count": 4,
   "id": "17ca4de2-b107-44c4-914a-c027caa09fed",
   "metadata": {
    "scrolled": true
   },
   "outputs": [
    {
     "name": "stdout",
     "output_type": "stream",
     "text": [
      "Initializing training procedure... booting up...\n"
     ]
    },
    {
     "name": "stderr",
     "output_type": "stream",
     "text": [
      "2025-04-24 05:16:23.900610: I tensorflow/core/common_runtime/gpu/gpu_device.cc:1635] Created device /job:localhost/replica:0/task:0/device:GPU:0 with 38366 MB memory:  -> device: 0, name: NVIDIA A100-SXM4-40GB, pci bus id: 0000:03:00.0, compute capability: 8.0\n",
      "2025-04-24 05:16:23.902528: I tensorflow/core/common_runtime/gpu/gpu_device.cc:1635] Created device /job:localhost/replica:0/task:0/device:GPU:1 with 38366 MB memory:  -> device: 1, name: NVIDIA A100-SXM4-40GB, pci bus id: 0000:41:00.0, compute capability: 8.0\n",
      "2025-04-24 05:16:23.904358: I tensorflow/core/common_runtime/gpu/gpu_device.cc:1635] Created device /job:localhost/replica:0/task:0/device:GPU:2 with 38366 MB memory:  -> device: 2, name: NVIDIA A100-SXM4-40GB, pci bus id: 0000:82:00.0, compute capability: 8.0\n",
      "2025-04-24 05:16:23.905976: I tensorflow/core/common_runtime/gpu/gpu_device.cc:1635] Created device /job:localhost/replica:0/task:0/device:GPU:3 with 38366 MB memory:  -> device: 3, name: NVIDIA A100-SXM4-40GB, pci bus id: 0000:c1:00.0, compute capability: 8.0\n",
      "/global/common/software/nersc9/tensorflow/2.12.0/lib/python3.9/site-packages/keras/initializers/initializers.py:120: UserWarning: The initializer RandomNormal is unseeded and being called multiple times, which will return identical values each time (even if the initializer is unseeded). Please update your code to provide a seed to the initializer, or avoid using the same initalizer instance more than once.\n",
      "  warnings.warn(\n"
     ]
    },
    {
     "name": "stdout",
     "output_type": "stream",
     "text": [
      "Starting training.\n"
     ]
    },
    {
     "name": "stderr",
     "output_type": "stream",
     "text": [
      "2025-04-24 05:16:25.030016: I tensorflow/core/common_runtime/executor.cc:1197] [/device:CPU:0] (DEBUG INFO) Executor start aborting (this does not indicate an error and you can ignore this message): INVALID_ARGUMENT: You must feed a value for placeholder tensor 'Placeholder/_0' with dtype float and shape [2000000,57]\n",
      "\t [[{{node Placeholder/_0}}]]\n",
      "2025-04-24 05:16:26.070115: I tensorflow/compiler/xla/stream_executor/cuda/cuda_blas.cc:637] TensorFloat-32 will be used for the matrix multiplication. This will only be logged once.\n",
      "2025-04-24 05:16:26.118540: I tensorflow/compiler/xla/service/service.cc:169] XLA service 0x7fa1e224dd90 initialized for platform CUDA (this does not guarantee that XLA will be used). Devices:\n",
      "2025-04-24 05:16:26.118555: I tensorflow/compiler/xla/service/service.cc:177]   StreamExecutor device (0): NVIDIA A100-SXM4-40GB, Compute Capability 8.0\n",
      "2025-04-24 05:16:26.118559: I tensorflow/compiler/xla/service/service.cc:177]   StreamExecutor device (1): NVIDIA A100-SXM4-40GB, Compute Capability 8.0\n",
      "2025-04-24 05:16:26.118562: I tensorflow/compiler/xla/service/service.cc:177]   StreamExecutor device (2): NVIDIA A100-SXM4-40GB, Compute Capability 8.0\n",
      "2025-04-24 05:16:26.118564: I tensorflow/compiler/xla/service/service.cc:177]   StreamExecutor device (3): NVIDIA A100-SXM4-40GB, Compute Capability 8.0\n",
      "2025-04-24 05:16:26.122620: I tensorflow/compiler/mlir/tensorflow/utils/dump_mlir_util.cc:269] disabling MLIR crash reproducer, set env var `MLIR_CRASH_REPRODUCER_DIRECTORY` to enable.\n",
      "2025-04-24 05:16:26.151006: I tensorflow/compiler/xla/stream_executor/cuda/cuda_dnn.cc:424] Loaded cuDNN version 8901\n",
      "2025-04-24 05:16:26.269589: I ./tensorflow/compiler/jit/device_compiler.h:180] Compiled cluster using XLA!  This line is logged at most once for the lifetime of the process.\n",
      "2025-04-24 05:17:02.070692: I tensorflow/core/common_runtime/executor.cc:1197] [/device:CPU:0] (DEBUG INFO) Executor start aborting (this does not indicate an error and you can ignore this message): INVALID_ARGUMENT: You must feed a value for placeholder tensor 'Placeholder/_0' with dtype float and shape [1000000,57]\n",
      "\t [[{{node Placeholder/_0}}]]\n"
     ]
    },
    {
     "name": "stdout",
     "output_type": "stream",
     "text": [
      "Epoch 1/100\n",
      "Total Loss: 2891.0938 - Reconstruction: 2745.5640 - KL: 291.0597\n",
      "Val Total Loss: 1189.3314 - Val Reconstruction: 1180.8445 - Val KL: 16.9736\n",
      "Epoch 2/100\n",
      "Total Loss: 1237.5204 - Reconstruction: 1224.9928 - KL: 25.0550\n",
      "Val Total Loss: 1322.1418 - Val Reconstruction: 1307.8687 - Val KL: 28.5460\n",
      "Epoch 3/100\n",
      "Total Loss: 843.9349 - Reconstruction: 833.6168 - KL: 20.6362\n",
      "Val Total Loss: 429.5175 - Val Reconstruction: 421.3228 - Val KL: 16.3893\n",
      "Epoch 4/100\n",
      "Total Loss: 519.8954 - Reconstruction: 513.1277 - KL: 13.5354\n",
      "Val Total Loss: 575.1390 - Val Reconstruction: 564.3369 - Val KL: 21.6042\n",
      "Epoch 5/100\n",
      "Total Loss: 701.8841 - Reconstruction: 683.4168 - KL: 36.9346\n",
      "Val Total Loss: 1192.1169 - Val Reconstruction: 1174.5833 - Val KL: 35.0676\n",
      "Epoch 6/100\n",
      "Total Loss: 1133.3442 - Reconstruction: 1121.1782 - KL: 24.3320\n",
      "Val Total Loss: 1037.5492 - Val Reconstruction: 1029.1445 - Val KL: 16.8093\n",
      "Epoch 7/100\n",
      "Total Loss: 144798.8125 - Reconstruction: 144354.3750 - KL: 888.8907\n",
      "Val Total Loss: 2310.6831 - Val Reconstruction: 2301.2073 - Val KL: 18.9517\n",
      "Learning rate reduced at epoch 7\n",
      "Epoch 8/100\n",
      "Total Loss: 2246.4634 - Reconstruction: 2238.2915 - KL: 16.3447\n",
      "Val Total Loss: 2194.9351 - Val Reconstruction: 2187.7744 - Val KL: 14.3211\n",
      "Epoch 9/100\n",
      "Total Loss: 1573.7677 - Reconstruction: 1565.9238 - KL: 15.6879\n",
      "Val Total Loss: 1137.4976 - Val Reconstruction: 1130.5989 - Val KL: 13.7973\n",
      "Epoch 10/100\n",
      "Total Loss: 28157.8887 - Reconstruction: 28136.5918 - KL: 42.5964\n",
      "Val Total Loss: 1020.0699 - Val Reconstruction: 1013.6165 - Val KL: 12.9070\n",
      "Epoch 11/100\n",
      "Total Loss: 980.3708 - Reconstruction: 973.9094 - KL: 12.9228\n",
      "Val Total Loss: 954.2392 - Val Reconstruction: 947.8823 - Val KL: 12.7137\n",
      "Learning rate reduced at epoch 11\n",
      "Early stopping triggered at epoch 11\n",
      "Training complete!\n",
      "Saving model...\n",
      "Model saved! Powering down...\n"
     ]
    },
    {
     "data": {
      "text/plain": [
       "{'total_loss': [2891.09375,\n",
       "  1237.5203857421875,\n",
       "  843.9349365234375,\n",
       "  519.8953857421875,\n",
       "  701.8840942382812,\n",
       "  1133.34423828125,\n",
       "  144798.8125,\n",
       "  2246.46337890625,\n",
       "  1573.7677001953125,\n",
       "  28157.888671875,\n",
       "  980.3707885742188],\n",
       " 'reconstruction_loss': [2745.56396484375,\n",
       "  1224.9927978515625,\n",
       "  833.6168212890625,\n",
       "  513.127685546875,\n",
       "  683.4168090820312,\n",
       "  1121.17822265625,\n",
       "  144354.375,\n",
       "  2238.29150390625,\n",
       "  1565.923828125,\n",
       "  28136.591796875,\n",
       "  973.909423828125],\n",
       " 'kl_loss': [291.0596618652344,\n",
       "  25.054956436157227,\n",
       "  20.636171340942383,\n",
       "  13.535393714904785,\n",
       "  36.934600830078125,\n",
       "  24.331968307495117,\n",
       "  888.8907470703125,\n",
       "  16.34471321105957,\n",
       "  15.687915802001953,\n",
       "  42.59638977050781,\n",
       "  12.922799110412598],\n",
       " 'val_total_loss': [1189.3314208984375,\n",
       "  1322.141845703125,\n",
       "  429.5174560546875,\n",
       "  575.1389770507812,\n",
       "  1192.116943359375,\n",
       "  1037.5491943359375,\n",
       "  2310.68310546875,\n",
       "  2194.93505859375,\n",
       "  1137.49755859375,\n",
       "  1020.0698852539062,\n",
       "  954.2391967773438],\n",
       " 'val_reconstruction_loss': [1180.844482421875,\n",
       "  1307.86865234375,\n",
       "  421.3228454589844,\n",
       "  564.3368530273438,\n",
       "  1174.583251953125,\n",
       "  1029.14453125,\n",
       "  2301.207275390625,\n",
       "  2187.7744140625,\n",
       "  1130.598876953125,\n",
       "  1013.616455078125,\n",
       "  947.88232421875],\n",
       " 'val_kl_loss': [16.973581314086914,\n",
       "  28.54599380493164,\n",
       "  16.389270782470703,\n",
       "  21.604162216186523,\n",
       "  35.0676155090332,\n",
       "  16.80929183959961,\n",
       "  18.95165252685547,\n",
       "  14.321120262145996,\n",
       "  13.797334671020508,\n",
       "  12.906959533691406,\n",
       "  12.713676452636719]}"
      ]
     },
     "execution_count": 4,
     "metadata": {},
     "output_type": "execute_result"
    }
   ],
   "source": [
    "# taef.train_VAE(\n",
    "#     datasets=datasets,\n",
    "#     h_dim_1=H_DIM_1,\n",
    "#     h_dim_2=H_DIM_2,\n",
    "#     latent_dim=LATENT_DIM,\n",
    "#     beta=BETA,\n",
    "#     model_path=MODEL_PATH,\n",
    "#     epochs=100\n",
    "# )"
   ]
  },
  {
   "cell_type": "code",
   "execution_count": 4,
   "id": "28e43304-48f4-4653-8ead-0d179c8089d8",
   "metadata": {},
   "outputs": [
    {
     "name": "stdout",
     "output_type": "stream",
     "text": [
      "Beginning evaluation procedure... booting up...\n",
      "Calculating AD scores for each dataset...\n"
     ]
    },
    {
     "name": "stderr",
     "output_type": "stream",
     "text": [
      "2025-04-24 06:07:36.080585: I tensorflow/core/common_runtime/gpu/gpu_device.cc:1635] Created device /job:localhost/replica:0/task:0/device:GPU:0 with 38366 MB memory:  -> device: 0, name: NVIDIA A100-SXM4-40GB, pci bus id: 0000:03:00.0, compute capability: 8.0\n",
      "2025-04-24 06:07:36.082517: I tensorflow/core/common_runtime/gpu/gpu_device.cc:1635] Created device /job:localhost/replica:0/task:0/device:GPU:1 with 38366 MB memory:  -> device: 1, name: NVIDIA A100-SXM4-40GB, pci bus id: 0000:41:00.0, compute capability: 8.0\n",
      "2025-04-24 06:07:36.085212: I tensorflow/core/common_runtime/gpu/gpu_device.cc:1635] Created device /job:localhost/replica:0/task:0/device:GPU:2 with 38366 MB memory:  -> device: 2, name: NVIDIA A100-SXM4-40GB, pci bus id: 0000:82:00.0, compute capability: 8.0\n",
      "2025-04-24 06:07:36.086814: I tensorflow/core/common_runtime/gpu/gpu_device.cc:1635] Created device /job:localhost/replica:0/task:0/device:GPU:3 with 38366 MB memory:  -> device: 3, name: NVIDIA A100-SXM4-40GB, pci bus id: 0000:c1:00.0, compute capability: 8.0\n",
      "/global/common/software/nersc9/tensorflow/2.12.0/lib/python3.9/site-packages/keras/initializers/initializers.py:120: UserWarning: The initializer RandomNormal is unseeded and being called multiple times, which will return identical values each time (even if the initializer is unseeded). Please update your code to provide a seed to the initializer, or avoid using the same initalizer instance more than once.\n",
      "  warnings.warn(\n"
     ]
    },
    {
     "name": "stdout",
     "output_type": "stream",
     "text": [
      "Evaluating hChToTauNu set...\n",
      "  120/23759 [..............................] - ETA: 19s    "
     ]
    },
    {
     "name": "stderr",
     "output_type": "stream",
     "text": [
      "2025-04-24 06:07:37.448418: I tensorflow/compiler/xla/stream_executor/cuda/cuda_blas.cc:637] TensorFloat-32 will be used for the matrix multiplication. This will only be logged once.\n"
     ]
    },
    {
     "name": "stdout",
     "output_type": "stream",
     "text": [
      "23759/23759 [==============================] - 20s 837us/step\n",
      "Evaluating hToTauTau set...\n",
      "21603/21603 [==============================] - 18s 853us/step\n",
      "Evaluating Ato4l set...\n",
      "1750/1750 [==============================] - 2s 858us/step\n",
      "Evaluating leptoquark set...\n",
      "10642/10642 [==============================] - 9s 883us/step\n",
      "Evaluating train set...\n",
      "62500/62500 [==============================] - 56s 894us/step\n",
      "Evaluating val set...\n",
      "31250/31250 [==============================] - 28s 900us/step\n",
      "Evaluating test set...\n",
      "31250/31250 [==============================] - 27s 858us/step\n",
      "Training student network...\n",
      "Initializing knowledge distillation procedure...\n",
      "Creating student network...\n",
      "Starting training of the student network.\n",
      "Epoch 1/100\n"
     ]
    },
    {
     "name": "stderr",
     "output_type": "stream",
     "text": [
      "2025-04-24 06:12:57.188804: I tensorflow/compiler/xla/service/service.cc:169] XLA service 0x55a16cdf02f0 initialized for platform CUDA (this does not guarantee that XLA will be used). Devices:\n",
      "2025-04-24 06:12:57.188824: I tensorflow/compiler/xla/service/service.cc:177]   StreamExecutor device (0): NVIDIA A100-SXM4-40GB, Compute Capability 8.0\n",
      "2025-04-24 06:12:57.188833: I tensorflow/compiler/xla/service/service.cc:177]   StreamExecutor device (1): NVIDIA A100-SXM4-40GB, Compute Capability 8.0\n",
      "2025-04-24 06:12:57.188836: I tensorflow/compiler/xla/service/service.cc:177]   StreamExecutor device (2): NVIDIA A100-SXM4-40GB, Compute Capability 8.0\n",
      "2025-04-24 06:12:57.188838: I tensorflow/compiler/xla/service/service.cc:177]   StreamExecutor device (3): NVIDIA A100-SXM4-40GB, Compute Capability 8.0\n",
      "2025-04-24 06:12:57.193355: I tensorflow/compiler/mlir/tensorflow/utils/dump_mlir_util.cc:269] disabling MLIR crash reproducer, set env var `MLIR_CRASH_REPRODUCER_DIRECTORY` to enable.\n",
      "2025-04-24 06:12:57.223529: I tensorflow/compiler/xla/stream_executor/cuda/cuda_dnn.cc:424] Loaded cuDNN version 8901\n",
      "2025-04-24 06:12:57.345226: I ./tensorflow/compiler/jit/device_compiler.h:180] Compiled cluster using XLA!  This line is logged at most once for the lifetime of the process.\n"
     ]
    },
    {
     "name": "stdout",
     "output_type": "stream",
     "text": [
      "15625/15625 [==============================] - 39s 2ms/step - loss: 11585.1514 - val_loss: 2890968.7500 - lr: 0.0100\n",
      "Epoch 2/100\n",
      "15625/15625 [==============================] - 37s 2ms/step - loss: 11869.6680 - val_loss: 521482.1875 - lr: 0.0100\n",
      "Epoch 3/100\n",
      "15625/15625 [==============================] - 37s 2ms/step - loss: 11358.3359 - val_loss: 1119676.2500 - lr: 0.0100\n",
      "Epoch 4/100\n",
      "15625/15625 [==============================] - 35s 2ms/step - loss: 11405.5332 - val_loss: 1040277.0000 - lr: 0.0100\n",
      "Epoch 5/100\n",
      "15625/15625 [==============================] - 36s 2ms/step - loss: 11753.0518 - val_loss: 2838039.7500 - lr: 0.0100\n",
      "Epoch 6/100\n",
      "15625/15625 [==============================] - 37s 2ms/step - loss: 11259.3457 - val_loss: 853896.9375 - lr: 0.0100\n",
      "Epoch 7/100\n",
      "15625/15625 [==============================] - 37s 2ms/step - loss: 10763.5049 - val_loss: 991195.7500 - lr: 1.0000e-03\n",
      "Epoch 8/100\n",
      "15625/15625 [==============================] - 36s 2ms/step - loss: 10370.4658 - val_loss: 11936450.0000 - lr: 1.0000e-03\n",
      "Epoch 9/100\n",
      "15625/15625 [==============================] - 35s 2ms/step - loss: 10157.7930 - val_loss: 2416286.7500 - lr: 1.0000e-03\n",
      "Epoch 10/100\n",
      "15625/15625 [==============================] - 36s 2ms/step - loss: 10182.8730 - val_loss: 1564334.0000 - lr: 1.0000e-03\n",
      "Saving student network...\n",
      "Student network saved! Knowledge distillation complete.\n",
      "Running inference on the student network...\n",
      "23759/23759 [==============================] - 16s 672us/step\n",
      "21603/21603 [==============================] - 15s 678us/step\n",
      "1750/1750 [==============================] - 1s 655us/step\n",
      "10642/10642 [==============================] - 8s 702us/step\n",
      "62500/62500 [==============================] - 43s 683us/step\n",
      "31250/31250 [==============================] - 21s 681us/step\n",
      "31250/31250 [==============================] - 21s 677us/step\n",
      "Inference complete! Plotting student performance...\n",
      "Plotting ROC curves...\n",
      "ROC curves plotted! Evaluation complete.\n"
     ]
    }
   ],
   "source": [
    "datasets = taef.evaluate_VAE(\n",
    "    datasets=datasets,\n",
    "    model_path=MODEL_PATH,\n",
    "    plots_path=PLOTS_PATH,\n",
    "    h_dim_1=H_DIM_1,\n",
    "    h_dim_2=H_DIM_2,\n",
    "    latent_dim=LATENT_DIM,\n",
    "    beta=BETA,\n",
    "    train_student=True,\n",
    "    load_student=False\n",
    ")"
   ]
  },
  {
   "cell_type": "code",
   "execution_count": 5,
   "id": "2164d92d-dab6-49dc-803b-0b55ee7aa2bf",
   "metadata": {},
   "outputs": [
    {
     "name": "stdout",
     "output_type": "stream",
     "text": [
      "[82.17086029  0.         -1.56314683  0.          0.          0.\n",
      "  0.          0.          0.          0.          0.          0.\n",
      "  0.          0.          0.         26.40037155  0.99070734  2.22225761\n",
      "  0.          0.          0.          0.          0.          0.\n",
      "  0.          0.          0.          0.          0.          0.\n",
      "  0.          0.          0.          0.          0.          0.\n",
      "  0.          0.          0.          0.          0.          0.\n",
      "  0.          0.          0.          0.          0.          0.\n",
      "  0.          0.          0.          0.          0.          0.\n",
      "  0.          0.          0.        ]\n",
      "[ 7.1606209e+01  1.4702491e-03 -1.3600358e-01  1.5068622e+00\n",
      " -3.0603286e-02 -4.0860202e-02 -3.6946833e-03  4.6330616e-03\n",
      "  1.4780451e-02  3.8599875e-04 -4.2492151e-04  2.5361311e-04\n",
      " -4.0923201e-02 -4.3466520e-03 -5.3486945e-03  3.4950348e+01\n",
      "  4.8049752e-02  1.7688986e-02  1.2202816e-01  2.0353664e-03\n",
      "  3.1570837e-02 -2.9982254e-04  8.3292648e-04  4.2145886e-04\n",
      "  1.3577542e-03  2.6948452e-03 -2.3644637e-02  1.8948627e+00\n",
      " -2.4787964e-01  2.4372019e-02  1.0187241e+00  5.9659407e-03\n",
      " -3.3598781e-02  3.7028509e-01 -7.5439773e-02 -3.7786603e-02\n",
      "  4.8008460e-01  4.5978352e-03  4.0561728e-02  3.2572749e-01\n",
      "  3.1710528e-03  4.6992265e-03  3.7570986e-01  2.7176721e-02\n",
      "  2.6806246e-02  8.9972474e-02 -1.1145100e-03 -4.8578121e-03\n",
      "  3.8818233e-02 -3.6247708e-03 -3.8656872e-05  1.5035048e-03\n",
      " -5.6489110e-03  2.4300627e-04  1.2801491e-02 -8.6138286e-03\n",
      "  2.9107183e-04]\n",
      "[ 0.09285066 -1.4395247  -2.458591  ]\n",
      "[ -5.437429   -9.529765  -10.0059595]\n"
     ]
    }
   ],
   "source": [
    "tag = 'test'\n",
    "idx=0\n",
    "print(datasets[tag]['data'][idx])\n",
    "print(datasets[tag]['y_pred'][idx])\n",
    "print(datasets[tag]['z_mean'][idx])\n",
    "print(datasets[tag]['z_log_var'][idx])"
   ]
  },
  {
   "cell_type": "code",
   "execution_count": null,
   "id": "6c6573b0-921b-487a-b0ca-324868264ca9",
   "metadata": {},
   "outputs": [],
   "source": []
  }
 ],
 "metadata": {
  "kernelspec": {
   "display_name": "tensorflow-2.12.0",
   "language": "python",
   "name": "tensorflow-2.12.0"
  },
  "language_info": {
   "codemirror_mode": {
    "name": "ipython",
    "version": 3
   },
   "file_extension": ".py",
   "mimetype": "text/x-python",
   "name": "python",
   "nbconvert_exporter": "python",
   "pygments_lexer": "ipython3",
   "version": "3.9.19"
  }
 },
 "nbformat": 4,
 "nbformat_minor": 5
}
